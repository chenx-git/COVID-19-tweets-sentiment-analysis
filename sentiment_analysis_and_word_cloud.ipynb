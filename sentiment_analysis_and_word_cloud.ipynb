{
  "nbformat": 4,
  "nbformat_minor": 0,
  "metadata": {
    "kernelspec": {
      "name": "python3",
      "display_name": "Python 3",
      "language": "python"
    },
    "language_info": {
      "name": "python",
      "version": "3.7.9",
      "mimetype": "text/x-python",
      "codemirror_mode": {
        "name": "ipython",
        "version": 3
      },
      "pygments_lexer": "ipython3",
      "nbconvert_exporter": "python",
      "file_extension": ".py"
    },
    "colab": {
      "name": "sentiment-analysis-and-word-cloud.ipynb",
      "provenance": []
    }
  },
  "cells": [
    {
      "cell_type": "markdown",
      "metadata": {
        "id": "jcyRQo0xuKqs"
      },
      "source": [
        "# Twitter sentiment analysis using nltk package and naive bayes [related to Covid-19 (2020-07-24 to 2020-08-30)]\n",
        "------------------"
      ]
    },
    {
      "cell_type": "markdown",
      "metadata": {
        "id": "ZmBVdANKuKqu"
      },
      "source": [
        "### Importing the Modules"
      ]
    },
    {
      "cell_type": "code",
      "metadata": {
        "trusted": true,
        "colab": {
          "base_uri": "https://localhost:8080/"
        },
        "id": "Sy3M6J3xuKqv",
        "outputId": "3a9619be-ea48-494f-de95-f7b46e35de86"
      },
      "source": [
        "import pandas as pd \n",
        "import numpy as np \n",
        "from IPython.display import display\n",
        "\n",
        "import matplotlib.pyplot as plt \n",
        "import re\n",
        "import string\n",
        "\n",
        "import nltk\n",
        "from nltk.tokenize import sent_tokenize\n",
        "from nltk.corpus import words\n",
        "from nltk.corpus import stopwords\n",
        "from nltk.tokenize import word_tokenize\n",
        "from nltk.stem import WordNetLemmatizer\n",
        "from nltk.stem import PorterStemmer\n",
        "from nltk.sentiment.vader import SentimentIntensityAnalyzer\n",
        "from nltk.sentiment.util import *\n",
        "nltk.download('stopwords')\n",
        "nltk.download('vader_lexicon')\n",
        "\n",
        "\n",
        "from collections import Counter\n",
        "\n",
        "from matplotlib import pyplot as plt\n",
        "from matplotlib import ticker\n",
        "import seaborn as sns\n",
        "import plotly.express as px\n",
        "\n",
        "sns.set(style=\"darkgrid\")"
      ],
      "execution_count": 1,
      "outputs": [
        {
          "output_type": "stream",
          "text": [
            "/usr/local/lib/python3.7/dist-packages/nltk/twitter/__init__.py:20: UserWarning: The twython library has not been installed. Some functionality from the twitter package will not be available.\n",
            "  warnings.warn(\"The twython library has not been installed. \"\n"
          ],
          "name": "stderr"
        },
        {
          "output_type": "stream",
          "text": [
            "[nltk_data] Downloading package stopwords to /root/nltk_data...\n",
            "[nltk_data]   Unzipping corpora/stopwords.zip.\n",
            "[nltk_data] Downloading package vader_lexicon to /root/nltk_data...\n"
          ],
          "name": "stdout"
        }
      ]
    },
    {
      "cell_type": "code",
      "metadata": {
        "trusted": true,
        "id": "u26vZXLwuKqw"
      },
      "source": [
        "import os\n"
      ],
      "execution_count": 5,
      "outputs": []
    },
    {
      "cell_type": "markdown",
      "metadata": {
        "id": "v3x_60dDuKqw"
      },
      "source": [
        "### Importing the Dataset"
      ]
    },
    {
      "cell_type": "code",
      "metadata": {
        "trusted": true,
        "colab": {
          "base_uri": "https://localhost:8080/",
          "height": 402
        },
        "id": "pyfhIcInuKqx",
        "outputId": "b2130ef4-d51a-4c96-a755-ed16a7ccf995"
      },
      "source": [
        "df=pd.read_csv('covid19_tweets.csv')\n",
        "df.head(5)"
      ],
      "execution_count": 7,
      "outputs": [
        {
          "output_type": "execute_result",
          "data": {
            "text/html": [
              "<div>\n",
              "<style scoped>\n",
              "    .dataframe tbody tr th:only-of-type {\n",
              "        vertical-align: middle;\n",
              "    }\n",
              "\n",
              "    .dataframe tbody tr th {\n",
              "        vertical-align: top;\n",
              "    }\n",
              "\n",
              "    .dataframe thead th {\n",
              "        text-align: right;\n",
              "    }\n",
              "</style>\n",
              "<table border=\"1\" class=\"dataframe\">\n",
              "  <thead>\n",
              "    <tr style=\"text-align: right;\">\n",
              "      <th></th>\n",
              "      <th>user_name</th>\n",
              "      <th>user_location</th>\n",
              "      <th>user_description</th>\n",
              "      <th>user_created</th>\n",
              "      <th>user_followers</th>\n",
              "      <th>user_friends</th>\n",
              "      <th>user_favourites</th>\n",
              "      <th>user_verified</th>\n",
              "      <th>date</th>\n",
              "      <th>text</th>\n",
              "      <th>hashtags</th>\n",
              "      <th>source</th>\n",
              "      <th>is_retweet</th>\n",
              "    </tr>\n",
              "  </thead>\n",
              "  <tbody>\n",
              "    <tr>\n",
              "      <th>0</th>\n",
              "      <td>ᏉᎥ☻լꂅϮ</td>\n",
              "      <td>astroworld</td>\n",
              "      <td>wednesday addams as a disney princess keepin i...</td>\n",
              "      <td>2017-05-26 05:46:42</td>\n",
              "      <td>624.0</td>\n",
              "      <td>950.0</td>\n",
              "      <td>18775.0</td>\n",
              "      <td>False</td>\n",
              "      <td>2020-07-25 12:27:21</td>\n",
              "      <td>If I smelled the scent of hand sanitizers toda...</td>\n",
              "      <td>NaN</td>\n",
              "      <td>Twitter for iPhone</td>\n",
              "      <td>False</td>\n",
              "    </tr>\n",
              "    <tr>\n",
              "      <th>1</th>\n",
              "      <td>Tom Basile 🇺🇸</td>\n",
              "      <td>New York, NY</td>\n",
              "      <td>Husband, Father, Columnist &amp; Commentator. Auth...</td>\n",
              "      <td>2009-04-16 20:06:23</td>\n",
              "      <td>2253.0</td>\n",
              "      <td>1677.0</td>\n",
              "      <td>24.0</td>\n",
              "      <td>True</td>\n",
              "      <td>2020-07-25 12:27:17</td>\n",
              "      <td>Hey @Yankees @YankeesPR and @MLB - wouldn't it...</td>\n",
              "      <td>NaN</td>\n",
              "      <td>Twitter for Android</td>\n",
              "      <td>False</td>\n",
              "    </tr>\n",
              "    <tr>\n",
              "      <th>2</th>\n",
              "      <td>Time4fisticuffs</td>\n",
              "      <td>Pewee Valley, KY</td>\n",
              "      <td>#Christian #Catholic #Conservative #Reagan #Re...</td>\n",
              "      <td>2009-02-28 18:57:41</td>\n",
              "      <td>9275.0</td>\n",
              "      <td>9525.0</td>\n",
              "      <td>7254.0</td>\n",
              "      <td>False</td>\n",
              "      <td>2020-07-25 12:27:14</td>\n",
              "      <td>@diane3443 @wdunlap @realDonaldTrump Trump nev...</td>\n",
              "      <td>['COVID19']</td>\n",
              "      <td>Twitter for Android</td>\n",
              "      <td>False</td>\n",
              "    </tr>\n",
              "    <tr>\n",
              "      <th>3</th>\n",
              "      <td>ethel mertz</td>\n",
              "      <td>Stuck in the Middle</td>\n",
              "      <td>#Browns #Indians #ClevelandProud #[]_[] #Cavs ...</td>\n",
              "      <td>2019-03-07 01:45:06</td>\n",
              "      <td>197.0</td>\n",
              "      <td>987.0</td>\n",
              "      <td>1488.0</td>\n",
              "      <td>False</td>\n",
              "      <td>2020-07-25 12:27:10</td>\n",
              "      <td>@brookbanktv The one gift #COVID19 has give me...</td>\n",
              "      <td>['COVID19']</td>\n",
              "      <td>Twitter for iPhone</td>\n",
              "      <td>False</td>\n",
              "    </tr>\n",
              "    <tr>\n",
              "      <th>4</th>\n",
              "      <td>DIPR-J&amp;K</td>\n",
              "      <td>Jammu and Kashmir</td>\n",
              "      <td>🖊️Official Twitter handle of Department of Inf...</td>\n",
              "      <td>2017-02-12 06:45:15</td>\n",
              "      <td>101009.0</td>\n",
              "      <td>168.0</td>\n",
              "      <td>101.0</td>\n",
              "      <td>False</td>\n",
              "      <td>2020-07-25 12:27:08</td>\n",
              "      <td>25 July : Media Bulletin on Novel #CoronaVirus...</td>\n",
              "      <td>['CoronaVirusUpdates', 'COVID19']</td>\n",
              "      <td>Twitter for Android</td>\n",
              "      <td>False</td>\n",
              "    </tr>\n",
              "  </tbody>\n",
              "</table>\n",
              "</div>"
            ],
            "text/plain": [
              "         user_name         user_location  ...               source is_retweet\n",
              "0           ᏉᎥ☻լꂅϮ            astroworld  ...   Twitter for iPhone      False\n",
              "1    Tom Basile 🇺🇸          New York, NY  ...  Twitter for Android      False\n",
              "2  Time4fisticuffs      Pewee Valley, KY  ...  Twitter for Android      False\n",
              "3      ethel mertz  Stuck in the Middle   ...   Twitter for iPhone      False\n",
              "4         DIPR-J&K     Jammu and Kashmir  ...  Twitter for Android      False\n",
              "\n",
              "[5 rows x 13 columns]"
            ]
          },
          "metadata": {
            "tags": []
          },
          "execution_count": 7
        }
      ]
    },
    {
      "cell_type": "markdown",
      "metadata": {
        "id": "LuIjNm30uKqx"
      },
      "source": [
        "let's check the shape of the dataframe"
      ]
    },
    {
      "cell_type": "code",
      "metadata": {
        "trusted": true,
        "colab": {
          "base_uri": "https://localhost:8080/"
        },
        "id": "du8aFL9HuKqx",
        "outputId": "7e6a98b1-d863-4da4-f1d8-269ee16879e3"
      },
      "source": [
        "df.shape"
      ],
      "execution_count": 8,
      "outputs": [
        {
          "output_type": "execute_result",
          "data": {
            "text/plain": [
              "(10956, 13)"
            ]
          },
          "metadata": {
            "tags": []
          },
          "execution_count": 8
        }
      ]
    },
    {
      "cell_type": "markdown",
      "metadata": {
        "id": "AIUcmFPRuKqy"
      },
      "source": [
        "let's select the needed columns for our project"
      ]
    },
    {
      "cell_type": "code",
      "metadata": {
        "trusted": true,
        "colab": {
          "base_uri": "https://localhost:8080/",
          "height": 191
        },
        "id": "worCo99QuKqy",
        "outputId": "b5668f4f-f4ea-4bd2-b078-86917653f1a8"
      },
      "source": [
        "needed_columns=['user_name','date','text']\n",
        "df=df[needed_columns]\n",
        "df.head()"
      ],
      "execution_count": 9,
      "outputs": [
        {
          "output_type": "execute_result",
          "data": {
            "text/html": [
              "<div>\n",
              "<style scoped>\n",
              "    .dataframe tbody tr th:only-of-type {\n",
              "        vertical-align: middle;\n",
              "    }\n",
              "\n",
              "    .dataframe tbody tr th {\n",
              "        vertical-align: top;\n",
              "    }\n",
              "\n",
              "    .dataframe thead th {\n",
              "        text-align: right;\n",
              "    }\n",
              "</style>\n",
              "<table border=\"1\" class=\"dataframe\">\n",
              "  <thead>\n",
              "    <tr style=\"text-align: right;\">\n",
              "      <th></th>\n",
              "      <th>user_name</th>\n",
              "      <th>date</th>\n",
              "      <th>text</th>\n",
              "    </tr>\n",
              "  </thead>\n",
              "  <tbody>\n",
              "    <tr>\n",
              "      <th>0</th>\n",
              "      <td>ᏉᎥ☻լꂅϮ</td>\n",
              "      <td>2020-07-25 12:27:21</td>\n",
              "      <td>If I smelled the scent of hand sanitizers toda...</td>\n",
              "    </tr>\n",
              "    <tr>\n",
              "      <th>1</th>\n",
              "      <td>Tom Basile 🇺🇸</td>\n",
              "      <td>2020-07-25 12:27:17</td>\n",
              "      <td>Hey @Yankees @YankeesPR and @MLB - wouldn't it...</td>\n",
              "    </tr>\n",
              "    <tr>\n",
              "      <th>2</th>\n",
              "      <td>Time4fisticuffs</td>\n",
              "      <td>2020-07-25 12:27:14</td>\n",
              "      <td>@diane3443 @wdunlap @realDonaldTrump Trump nev...</td>\n",
              "    </tr>\n",
              "    <tr>\n",
              "      <th>3</th>\n",
              "      <td>ethel mertz</td>\n",
              "      <td>2020-07-25 12:27:10</td>\n",
              "      <td>@brookbanktv The one gift #COVID19 has give me...</td>\n",
              "    </tr>\n",
              "    <tr>\n",
              "      <th>4</th>\n",
              "      <td>DIPR-J&amp;K</td>\n",
              "      <td>2020-07-25 12:27:08</td>\n",
              "      <td>25 July : Media Bulletin on Novel #CoronaVirus...</td>\n",
              "    </tr>\n",
              "  </tbody>\n",
              "</table>\n",
              "</div>"
            ],
            "text/plain": [
              "         user_name  ...                                               text\n",
              "0           ᏉᎥ☻լꂅϮ  ...  If I smelled the scent of hand sanitizers toda...\n",
              "1    Tom Basile 🇺🇸  ...  Hey @Yankees @YankeesPR and @MLB - wouldn't it...\n",
              "2  Time4fisticuffs  ...  @diane3443 @wdunlap @realDonaldTrump Trump nev...\n",
              "3      ethel mertz  ...  @brookbanktv The one gift #COVID19 has give me...\n",
              "4         DIPR-J&K  ...  25 July : Media Bulletin on Novel #CoronaVirus...\n",
              "\n",
              "[5 rows x 3 columns]"
            ]
          },
          "metadata": {
            "tags": []
          },
          "execution_count": 9
        }
      ]
    },
    {
      "cell_type": "markdown",
      "metadata": {
        "id": "PikxVABduKqz"
      },
      "source": [
        "change the type of some columns"
      ]
    },
    {
      "cell_type": "code",
      "metadata": {
        "trusted": true,
        "id": "irOfp8nquKqz"
      },
      "source": [
        "df.user_name=df.user_name.astype('category')\n",
        "df.user_name=df.user_name.cat.codes # assign a unique numerical code to each category\n",
        "df.date=pd.to_datetime(df.date).dt.date"
      ],
      "execution_count": 10,
      "outputs": []
    },
    {
      "cell_type": "code",
      "metadata": {
        "trusted": true,
        "colab": {
          "base_uri": "https://localhost:8080/",
          "height": 191
        },
        "id": "k0S0u2wbuKqz",
        "outputId": "1793acf9-ec3f-4b62-e4d3-8c7429f1ae2e"
      },
      "source": [
        "df.head(5)"
      ],
      "execution_count": 11,
      "outputs": [
        {
          "output_type": "execute_result",
          "data": {
            "text/html": [
              "<div>\n",
              "<style scoped>\n",
              "    .dataframe tbody tr th:only-of-type {\n",
              "        vertical-align: middle;\n",
              "    }\n",
              "\n",
              "    .dataframe tbody tr th {\n",
              "        vertical-align: top;\n",
              "    }\n",
              "\n",
              "    .dataframe thead th {\n",
              "        text-align: right;\n",
              "    }\n",
              "</style>\n",
              "<table border=\"1\" class=\"dataframe\">\n",
              "  <thead>\n",
              "    <tr style=\"text-align: right;\">\n",
              "      <th></th>\n",
              "      <th>user_name</th>\n",
              "      <th>date</th>\n",
              "      <th>text</th>\n",
              "    </tr>\n",
              "  </thead>\n",
              "  <tbody>\n",
              "    <tr>\n",
              "      <th>0</th>\n",
              "      <td>7683</td>\n",
              "      <td>2020-07-25</td>\n",
              "      <td>If I smelled the scent of hand sanitizers toda...</td>\n",
              "    </tr>\n",
              "    <tr>\n",
              "      <th>1</th>\n",
              "      <td>6554</td>\n",
              "      <td>2020-07-25</td>\n",
              "      <td>Hey @Yankees @YankeesPR and @MLB - wouldn't it...</td>\n",
              "    </tr>\n",
              "    <tr>\n",
              "      <th>2</th>\n",
              "      <td>6531</td>\n",
              "      <td>2020-07-25</td>\n",
              "      <td>@diane3443 @wdunlap @realDonaldTrump Trump nev...</td>\n",
              "    </tr>\n",
              "    <tr>\n",
              "      <th>3</th>\n",
              "      <td>7246</td>\n",
              "      <td>2020-07-25</td>\n",
              "      <td>@brookbanktv The one gift #COVID19 has give me...</td>\n",
              "    </tr>\n",
              "    <tr>\n",
              "      <th>4</th>\n",
              "      <td>1504</td>\n",
              "      <td>2020-07-25</td>\n",
              "      <td>25 July : Media Bulletin on Novel #CoronaVirus...</td>\n",
              "    </tr>\n",
              "  </tbody>\n",
              "</table>\n",
              "</div>"
            ],
            "text/plain": [
              "   user_name        date                                               text\n",
              "0       7683  2020-07-25  If I smelled the scent of hand sanitizers toda...\n",
              "1       6554  2020-07-25  Hey @Yankees @YankeesPR and @MLB - wouldn't it...\n",
              "2       6531  2020-07-25  @diane3443 @wdunlap @realDonaldTrump Trump nev...\n",
              "3       7246  2020-07-25  @brookbanktv The one gift #COVID19 has give me...\n",
              "4       1504  2020-07-25  25 July : Media Bulletin on Novel #CoronaVirus..."
            ]
          },
          "metadata": {
            "tags": []
          },
          "execution_count": 11
        }
      ]
    },
    {
      "cell_type": "markdown",
      "metadata": {
        "id": "oHqw7PmHuKq0"
      },
      "source": [
        "### Picking out the tweet texts"
      ]
    },
    {
      "cell_type": "code",
      "metadata": {
        "trusted": true,
        "colab": {
          "base_uri": "https://localhost:8080/"
        },
        "id": "9itwtdVQuKq0",
        "outputId": "1df52017-b089-4460-d765-cbc1f837cc9b"
      },
      "source": [
        "texts=df.text\n",
        "texts"
      ],
      "execution_count": 12,
      "outputs": [
        {
          "output_type": "execute_result",
          "data": {
            "text/plain": [
              "0        If I smelled the scent of hand sanitizers toda...\n",
              "1        Hey @Yankees @YankeesPR and @MLB - wouldn't it...\n",
              "2        @diane3443 @wdunlap @realDonaldTrump Trump nev...\n",
              "3        @brookbanktv The one gift #COVID19 has give me...\n",
              "4        25 July : Media Bulletin on Novel #CoronaVirus...\n",
              "                               ...                        \n",
              "10951    High tracking and testing rates have helped Ba...\n",
              "10952    I don't care WHAT happens between #COVID19 and...\n",
              "10953    #India’s #COVID19 tally zoomed past 13 lakhs o...\n",
              "10954    India =    11.2 % +ve in testing \\nUS     =   ...\n",
              "10955                                                  NaN\n",
              "Name: text, Length: 10956, dtype: object"
            ]
          },
          "metadata": {
            "tags": []
          },
          "execution_count": 12
        }
      ]
    },
    {
      "cell_type": "markdown",
      "metadata": {
        "id": "S6DkGC_QuKq0"
      },
      "source": [
        "### Removing URLs from tweets"
      ]
    },
    {
      "cell_type": "code",
      "metadata": {
        "trusted": true,
        "colab": {
          "base_uri": "https://localhost:8080/"
        },
        "id": "nqK9pSqPuKq1",
        "outputId": "425f2aa7-63ce-4771-da0b-8c0c66f5a4be"
      },
      "source": [
        "remove_url=lambda x:re.sub(r'http\\S+','',str(x))\n",
        "texts_lr=texts.apply(remove_url)\n",
        "texts_lr"
      ],
      "execution_count": 13,
      "outputs": [
        {
          "output_type": "execute_result",
          "data": {
            "text/plain": [
              "0        If I smelled the scent of hand sanitizers toda...\n",
              "1        Hey @Yankees @YankeesPR and @MLB - wouldn't it...\n",
              "2        @diane3443 @wdunlap @realDonaldTrump Trump nev...\n",
              "3        @brookbanktv The one gift #COVID19 has give me...\n",
              "4        25 July : Media Bulletin on Novel #CoronaVirus...\n",
              "                               ...                        \n",
              "10951    High tracking and testing rates have helped Ba...\n",
              "10952    I don't care WHAT happens between #COVID19 and...\n",
              "10953    #India’s #COVID19 tally zoomed past 13 lakhs o...\n",
              "10954    India =    11.2 % +ve in testing \\nUS     =   ...\n",
              "10955                                                  nan\n",
              "Name: text, Length: 10956, dtype: object"
            ]
          },
          "metadata": {
            "tags": []
          },
          "execution_count": 13
        }
      ]
    },
    {
      "cell_type": "markdown",
      "metadata": {
        "id": "FljB0szjuKq1"
      },
      "source": [
        "### Converting all tweets to lowercase"
      ]
    },
    {
      "cell_type": "code",
      "metadata": {
        "scrolled": true,
        "trusted": true,
        "colab": {
          "base_uri": "https://localhost:8080/"
        },
        "id": "mvNBNXLOuKq1",
        "outputId": "7eef33f3-247b-47eb-e95e-cc52cc9cf50d"
      },
      "source": [
        "to_lower=lambda x: x.lower()\n",
        "texts_lr_lc=texts_lr.apply(to_lower)\n",
        "texts_lr_lc"
      ],
      "execution_count": 14,
      "outputs": [
        {
          "output_type": "execute_result",
          "data": {
            "text/plain": [
              "0        if i smelled the scent of hand sanitizers toda...\n",
              "1        hey @yankees @yankeespr and @mlb - wouldn't it...\n",
              "2        @diane3443 @wdunlap @realdonaldtrump trump nev...\n",
              "3        @brookbanktv the one gift #covid19 has give me...\n",
              "4        25 july : media bulletin on novel #coronavirus...\n",
              "                               ...                        \n",
              "10951    high tracking and testing rates have helped ba...\n",
              "10952    i don't care what happens between #covid19 and...\n",
              "10953    #india’s #covid19 tally zoomed past 13 lakhs o...\n",
              "10954    india =    11.2 % +ve in testing \\nus     =   ...\n",
              "10955                                                  nan\n",
              "Name: text, Length: 10956, dtype: object"
            ]
          },
          "metadata": {
            "tags": []
          },
          "execution_count": 14
        }
      ]
    },
    {
      "cell_type": "markdown",
      "metadata": {
        "id": "hs9F2f3yuKq2"
      },
      "source": [
        "### Removing punctuations"
      ]
    },
    {
      "cell_type": "code",
      "metadata": {
        "trusted": true,
        "colab": {
          "base_uri": "https://localhost:8080/"
        },
        "id": "-BpGza-vuKq2",
        "outputId": "374331de-051e-4ce4-d650-5b94b5b3349f"
      },
      "source": [
        "remove_puncs= lambda x:x.translate(str.maketrans('','',string.punctuation))\n",
        "texts_lr_lc_np=texts_lr_lc.apply(remove_puncs)\n",
        "texts_lr_lc_np"
      ],
      "execution_count": 15,
      "outputs": [
        {
          "output_type": "execute_result",
          "data": {
            "text/plain": [
              "0        if i smelled the scent of hand sanitizers toda...\n",
              "1        hey yankees yankeespr and mlb  wouldnt it have...\n",
              "2        diane3443 wdunlap realdonaldtrump trump never ...\n",
              "3        brookbanktv the one gift covid19 has give me i...\n",
              "4        25 july  media bulletin on novel coronavirusup...\n",
              "                               ...                        \n",
              "10951    high tracking and testing rates have helped ba...\n",
              "10952    i dont care what happens between covid19 and n...\n",
              "10953    india’s covid19 tally zoomed past 13 lakhs on ...\n",
              "10954    india     112  ve in testing \\nus        1235 ...\n",
              "10955                                                  nan\n",
              "Name: text, Length: 10956, dtype: object"
            ]
          },
          "metadata": {
            "tags": []
          },
          "execution_count": 15
        }
      ]
    },
    {
      "cell_type": "markdown",
      "metadata": {
        "id": "okjQQ47luKq2"
      },
      "source": [
        "### Removing stopwords"
      ]
    },
    {
      "cell_type": "code",
      "metadata": {
        "trusted": true,
        "colab": {
          "base_uri": "https://localhost:8080/"
        },
        "id": "1XUBNP4fuKq3",
        "outputId": "99c5150c-450e-4b45-8836-bc79d44071d6"
      },
      "source": [
        "more_words=['say','going','like','U','u','#coronavirus', '#coronavirusoutbreak', '#coronavirusPandemic', '#covid19', '#covid_19','coronavirus', 'covid19']\n",
        "stop_words=set(stopwords.words('english')) #nltk package\n",
        "stop_words.update(more_words)\n",
        "\n",
        "remove_words=lambda x: ' '.join([word for word in x.split() if word not in stop_words]) #.join is from package string\n",
        "texts_lr_lc_np_ns=r=texts_lr_lc_np.apply(remove_words)\n",
        "texts_lr_lc_np_ns"
      ],
      "execution_count": 16,
      "outputs": [
        {
          "output_type": "execute_result",
          "data": {
            "text/plain": [
              "0        smelled scent hand sanitizers today someone pa...\n",
              "1        hey yankees yankeespr mlb wouldnt made sense p...\n",
              "2        diane3443 wdunlap realdonaldtrump trump never ...\n",
              "3        brookbanktv one gift give appreciation simple ...\n",
              "4        25 july media bulletin novel coronavirusupdate...\n",
              "                               ...                        \n",
              "10951    high tracking testing rates helped bahrain tak...\n",
              "10952    dont care happens nov3rd state union obama orc...\n",
              "10953    india’s tally zoomed past 13 lakhs saturday tw...\n",
              "10954    india 112 testing us 1235 testing prediction i...\n",
              "10955                                                  nan\n",
              "Name: text, Length: 10956, dtype: object"
            ]
          },
          "metadata": {
            "tags": []
          },
          "execution_count": 16
        }
      ]
    },
    {
      "cell_type": "markdown",
      "metadata": {
        "id": "x2C9LjF1uKq3"
      },
      "source": [
        "### let's create a big list of words out of all the tweets "
      ]
    },
    {
      "cell_type": "code",
      "metadata": {
        "trusted": true,
        "colab": {
          "base_uri": "https://localhost:8080/"
        },
        "id": "ndHz9xfOuKq3",
        "outputId": "f0903990-7aa8-45f5-9591-12ecd5390319"
      },
      "source": [
        "words_list=[word for line in texts_lr_lc_np_ns for word in line.split()]\n",
        "words_list[:5]"
      ],
      "execution_count": 17,
      "outputs": [
        {
          "output_type": "execute_result",
          "data": {
            "text/plain": [
              "['smelled', 'scent', 'hand', 'sanitizers', 'today']"
            ]
          },
          "metadata": {
            "tags": []
          },
          "execution_count": 17
        }
      ]
    },
    {
      "cell_type": "code",
      "metadata": {
        "trusted": true,
        "colab": {
          "base_uri": "https://localhost:8080/",
          "height": 716
        },
        "id": "hZGtYVbWuKq4",
        "outputId": "49d3a75f-3b52-4d96-c4aa-2773380bf245"
      },
      "source": [
        "word_counts=Counter(words_list).most_common(50)\n",
        "word_df=pd.DataFrame(word_counts)\n",
        "word_df.columns=['word','frq']\n",
        "display(word_df.head(5))\n",
        "# px=import plotly.express\n",
        "px.bar(word_df,x='word',y='frq',title='Most common words')"
      ],
      "execution_count": 18,
      "outputs": [
        {
          "output_type": "display_data",
          "data": {
            "text/html": [
              "<div>\n",
              "<style scoped>\n",
              "    .dataframe tbody tr th:only-of-type {\n",
              "        vertical-align: middle;\n",
              "    }\n",
              "\n",
              "    .dataframe tbody tr th {\n",
              "        vertical-align: top;\n",
              "    }\n",
              "\n",
              "    .dataframe thead th {\n",
              "        text-align: right;\n",
              "    }\n",
              "</style>\n",
              "<table border=\"1\" class=\"dataframe\">\n",
              "  <thead>\n",
              "    <tr style=\"text-align: right;\">\n",
              "      <th></th>\n",
              "      <th>word</th>\n",
              "      <th>frq</th>\n",
              "    </tr>\n",
              "  </thead>\n",
              "  <tbody>\n",
              "    <tr>\n",
              "      <th>0</th>\n",
              "      <td>cases</td>\n",
              "      <td>1363</td>\n",
              "    </tr>\n",
              "    <tr>\n",
              "      <th>1</th>\n",
              "      <td>new</td>\n",
              "      <td>921</td>\n",
              "    </tr>\n",
              "    <tr>\n",
              "      <th>2</th>\n",
              "      <td>amp</td>\n",
              "      <td>653</td>\n",
              "    </tr>\n",
              "    <tr>\n",
              "      <th>3</th>\n",
              "      <td>people</td>\n",
              "      <td>542</td>\n",
              "    </tr>\n",
              "    <tr>\n",
              "      <th>4</th>\n",
              "      <td>positive</td>\n",
              "      <td>514</td>\n",
              "    </tr>\n",
              "  </tbody>\n",
              "</table>\n",
              "</div>"
            ],
            "text/plain": [
              "       word   frq\n",
              "0     cases  1363\n",
              "1       new   921\n",
              "2       amp   653\n",
              "3    people   542\n",
              "4  positive   514"
            ]
          },
          "metadata": {
            "tags": []
          }
        },
        {
          "output_type": "display_data",
          "data": {
            "text/html": [
              "<html>\n",
              "<head><meta charset=\"utf-8\" /></head>\n",
              "<body>\n",
              "    <div>\n",
              "            <script src=\"https://cdnjs.cloudflare.com/ajax/libs/mathjax/2.7.5/MathJax.js?config=TeX-AMS-MML_SVG\"></script><script type=\"text/javascript\">if (window.MathJax) {MathJax.Hub.Config({SVG: {font: \"STIX-Web\"}});}</script>\n",
              "                <script type=\"text/javascript\">window.PlotlyConfig = {MathJaxConfig: 'local'};</script>\n",
              "        <script src=\"https://cdn.plot.ly/plotly-latest.min.js\"></script>    \n",
              "            <div id=\"b41f2dde-d88a-4d65-b048-9a525aa9d275\" class=\"plotly-graph-div\" style=\"height:525px; width:100%;\"></div>\n",
              "            <script type=\"text/javascript\">\n",
              "                \n",
              "                    window.PLOTLYENV=window.PLOTLYENV || {};\n",
              "                    \n",
              "                if (document.getElementById(\"b41f2dde-d88a-4d65-b048-9a525aa9d275\")) {\n",
              "                    Plotly.newPlot(\n",
              "                        'b41f2dde-d88a-4d65-b048-9a525aa9d275',\n",
              "                        [{\"alignmentgroup\": \"True\", \"hoverlabel\": {\"namelength\": 0}, \"hovertemplate\": \"word=%{x}<br>frq=%{y}\", \"legendgroup\": \"\", \"marker\": {\"color\": \"#636efa\"}, \"name\": \"\", \"offsetgroup\": \"\", \"orientation\": \"v\", \"showlegend\": false, \"textposition\": \"auto\", \"type\": \"bar\", \"x\": [\"cases\", \"new\", \"amp\", \"people\", \"positive\", \"us\", \"pandemic\", \"deaths\", \"health\", \"total\", \"help\", \"july\", \"one\", \"get\", \"today\", \"covid19\\u2026\", \"mask\", \"covid\", \"daily\", \"india\", \"spread\", \"2020\", \"lockdown\", \"even\", \"need\", \"tests\", \"day\", \"risk\", \"tested\", \"number\", \"masks\", \"time\", \"world\", \"24\", \"last\", \"many\", \"reported\", \"patients\", \"government\", \"first\", \"symptoms\", \"virus\", \"update\", \"back\", \"country\", \"good\", \"please\", \"dont\", \"still\", \"know\"], \"xaxis\": \"x\", \"y\": [1363, 921, 653, 542, 514, 451, 416, 369, 345, 325, 308, 301, 298, 296, 255, 255, 255, 250, 246, 237, 231, 230, 228, 228, 227, 220, 219, 217, 213, 209, 207, 206, 195, 193, 192, 191, 189, 188, 184, 181, 180, 179, 168, 168, 166, 164, 164, 163, 160, 157], \"yaxis\": \"y\"}],\n",
              "                        {\"barmode\": \"relative\", \"legend\": {\"tracegroupgap\": 0}, \"template\": {\"data\": {\"bar\": [{\"error_x\": {\"color\": \"#2a3f5f\"}, \"error_y\": {\"color\": \"#2a3f5f\"}, \"marker\": {\"line\": {\"color\": \"#E5ECF6\", \"width\": 0.5}}, \"type\": \"bar\"}], \"barpolar\": [{\"marker\": {\"line\": {\"color\": \"#E5ECF6\", \"width\": 0.5}}, \"type\": \"barpolar\"}], \"carpet\": [{\"aaxis\": {\"endlinecolor\": \"#2a3f5f\", \"gridcolor\": \"white\", \"linecolor\": \"white\", \"minorgridcolor\": \"white\", \"startlinecolor\": \"#2a3f5f\"}, \"baxis\": {\"endlinecolor\": \"#2a3f5f\", \"gridcolor\": \"white\", \"linecolor\": \"white\", \"minorgridcolor\": \"white\", \"startlinecolor\": \"#2a3f5f\"}, \"type\": \"carpet\"}], \"choropleth\": [{\"colorbar\": {\"outlinewidth\": 0, \"ticks\": \"\"}, \"type\": \"choropleth\"}], \"contour\": [{\"colorbar\": {\"outlinewidth\": 0, \"ticks\": \"\"}, \"colorscale\": [[0.0, \"#0d0887\"], [0.1111111111111111, \"#46039f\"], [0.2222222222222222, \"#7201a8\"], [0.3333333333333333, \"#9c179e\"], [0.4444444444444444, \"#bd3786\"], [0.5555555555555556, \"#d8576b\"], [0.6666666666666666, \"#ed7953\"], [0.7777777777777778, \"#fb9f3a\"], [0.8888888888888888, \"#fdca26\"], [1.0, \"#f0f921\"]], \"type\": \"contour\"}], \"contourcarpet\": [{\"colorbar\": {\"outlinewidth\": 0, \"ticks\": \"\"}, \"type\": \"contourcarpet\"}], \"heatmap\": [{\"colorbar\": {\"outlinewidth\": 0, \"ticks\": \"\"}, \"colorscale\": [[0.0, \"#0d0887\"], [0.1111111111111111, \"#46039f\"], [0.2222222222222222, \"#7201a8\"], [0.3333333333333333, \"#9c179e\"], [0.4444444444444444, \"#bd3786\"], [0.5555555555555556, \"#d8576b\"], [0.6666666666666666, \"#ed7953\"], [0.7777777777777778, \"#fb9f3a\"], [0.8888888888888888, \"#fdca26\"], [1.0, \"#f0f921\"]], \"type\": \"heatmap\"}], \"heatmapgl\": [{\"colorbar\": {\"outlinewidth\": 0, \"ticks\": \"\"}, \"colorscale\": [[0.0, \"#0d0887\"], [0.1111111111111111, \"#46039f\"], [0.2222222222222222, \"#7201a8\"], [0.3333333333333333, \"#9c179e\"], [0.4444444444444444, \"#bd3786\"], [0.5555555555555556, \"#d8576b\"], [0.6666666666666666, \"#ed7953\"], [0.7777777777777778, \"#fb9f3a\"], [0.8888888888888888, \"#fdca26\"], [1.0, \"#f0f921\"]], \"type\": \"heatmapgl\"}], \"histogram\": [{\"marker\": {\"colorbar\": {\"outlinewidth\": 0, \"ticks\": \"\"}}, \"type\": \"histogram\"}], \"histogram2d\": [{\"colorbar\": {\"outlinewidth\": 0, \"ticks\": \"\"}, \"colorscale\": [[0.0, \"#0d0887\"], [0.1111111111111111, \"#46039f\"], [0.2222222222222222, \"#7201a8\"], [0.3333333333333333, \"#9c179e\"], [0.4444444444444444, \"#bd3786\"], [0.5555555555555556, \"#d8576b\"], [0.6666666666666666, \"#ed7953\"], [0.7777777777777778, \"#fb9f3a\"], [0.8888888888888888, \"#fdca26\"], [1.0, \"#f0f921\"]], \"type\": \"histogram2d\"}], \"histogram2dcontour\": [{\"colorbar\": {\"outlinewidth\": 0, \"ticks\": \"\"}, \"colorscale\": [[0.0, \"#0d0887\"], [0.1111111111111111, \"#46039f\"], [0.2222222222222222, \"#7201a8\"], [0.3333333333333333, \"#9c179e\"], [0.4444444444444444, \"#bd3786\"], [0.5555555555555556, \"#d8576b\"], [0.6666666666666666, \"#ed7953\"], [0.7777777777777778, \"#fb9f3a\"], [0.8888888888888888, \"#fdca26\"], [1.0, \"#f0f921\"]], \"type\": \"histogram2dcontour\"}], \"mesh3d\": [{\"colorbar\": {\"outlinewidth\": 0, \"ticks\": \"\"}, \"type\": \"mesh3d\"}], \"parcoords\": [{\"line\": {\"colorbar\": {\"outlinewidth\": 0, \"ticks\": \"\"}}, \"type\": \"parcoords\"}], \"pie\": [{\"automargin\": true, \"type\": \"pie\"}], \"scatter\": [{\"marker\": {\"colorbar\": {\"outlinewidth\": 0, \"ticks\": \"\"}}, \"type\": \"scatter\"}], \"scatter3d\": [{\"line\": {\"colorbar\": {\"outlinewidth\": 0, \"ticks\": \"\"}}, \"marker\": {\"colorbar\": {\"outlinewidth\": 0, \"ticks\": \"\"}}, \"type\": \"scatter3d\"}], \"scattercarpet\": [{\"marker\": {\"colorbar\": {\"outlinewidth\": 0, \"ticks\": \"\"}}, \"type\": \"scattercarpet\"}], \"scattergeo\": [{\"marker\": {\"colorbar\": {\"outlinewidth\": 0, \"ticks\": \"\"}}, \"type\": \"scattergeo\"}], \"scattergl\": [{\"marker\": {\"colorbar\": {\"outlinewidth\": 0, \"ticks\": \"\"}}, \"type\": \"scattergl\"}], \"scattermapbox\": [{\"marker\": {\"colorbar\": {\"outlinewidth\": 0, \"ticks\": \"\"}}, \"type\": \"scattermapbox\"}], \"scatterpolar\": [{\"marker\": {\"colorbar\": {\"outlinewidth\": 0, \"ticks\": \"\"}}, \"type\": \"scatterpolar\"}], \"scatterpolargl\": [{\"marker\": {\"colorbar\": {\"outlinewidth\": 0, \"ticks\": \"\"}}, \"type\": \"scatterpolargl\"}], \"scatterternary\": [{\"marker\": {\"colorbar\": {\"outlinewidth\": 0, \"ticks\": \"\"}}, \"type\": \"scatterternary\"}], \"surface\": [{\"colorbar\": {\"outlinewidth\": 0, \"ticks\": \"\"}, \"colorscale\": [[0.0, \"#0d0887\"], [0.1111111111111111, \"#46039f\"], [0.2222222222222222, \"#7201a8\"], [0.3333333333333333, \"#9c179e\"], [0.4444444444444444, \"#bd3786\"], [0.5555555555555556, \"#d8576b\"], [0.6666666666666666, \"#ed7953\"], [0.7777777777777778, \"#fb9f3a\"], [0.8888888888888888, \"#fdca26\"], [1.0, \"#f0f921\"]], \"type\": \"surface\"}], \"table\": [{\"cells\": {\"fill\": {\"color\": \"#EBF0F8\"}, \"line\": {\"color\": \"white\"}}, \"header\": {\"fill\": {\"color\": \"#C8D4E3\"}, \"line\": {\"color\": \"white\"}}, \"type\": \"table\"}]}, \"layout\": {\"annotationdefaults\": {\"arrowcolor\": \"#2a3f5f\", \"arrowhead\": 0, \"arrowwidth\": 1}, \"coloraxis\": {\"colorbar\": {\"outlinewidth\": 0, \"ticks\": \"\"}}, \"colorscale\": {\"diverging\": [[0, \"#8e0152\"], [0.1, \"#c51b7d\"], [0.2, \"#de77ae\"], [0.3, \"#f1b6da\"], [0.4, \"#fde0ef\"], [0.5, \"#f7f7f7\"], [0.6, \"#e6f5d0\"], [0.7, \"#b8e186\"], [0.8, \"#7fbc41\"], [0.9, \"#4d9221\"], [1, \"#276419\"]], \"sequential\": [[0.0, \"#0d0887\"], [0.1111111111111111, \"#46039f\"], [0.2222222222222222, \"#7201a8\"], [0.3333333333333333, \"#9c179e\"], [0.4444444444444444, \"#bd3786\"], [0.5555555555555556, \"#d8576b\"], [0.6666666666666666, \"#ed7953\"], [0.7777777777777778, \"#fb9f3a\"], [0.8888888888888888, \"#fdca26\"], [1.0, \"#f0f921\"]], \"sequentialminus\": [[0.0, \"#0d0887\"], [0.1111111111111111, \"#46039f\"], [0.2222222222222222, \"#7201a8\"], [0.3333333333333333, \"#9c179e\"], [0.4444444444444444, \"#bd3786\"], [0.5555555555555556, \"#d8576b\"], [0.6666666666666666, \"#ed7953\"], [0.7777777777777778, \"#fb9f3a\"], [0.8888888888888888, \"#fdca26\"], [1.0, \"#f0f921\"]]}, \"colorway\": [\"#636efa\", \"#EF553B\", \"#00cc96\", \"#ab63fa\", \"#FFA15A\", \"#19d3f3\", \"#FF6692\", \"#B6E880\", \"#FF97FF\", \"#FECB52\"], \"font\": {\"color\": \"#2a3f5f\"}, \"geo\": {\"bgcolor\": \"white\", \"lakecolor\": \"white\", \"landcolor\": \"#E5ECF6\", \"showlakes\": true, \"showland\": true, \"subunitcolor\": \"white\"}, \"hoverlabel\": {\"align\": \"left\"}, \"hovermode\": \"closest\", \"mapbox\": {\"style\": \"light\"}, \"paper_bgcolor\": \"white\", \"plot_bgcolor\": \"#E5ECF6\", \"polar\": {\"angularaxis\": {\"gridcolor\": \"white\", \"linecolor\": \"white\", \"ticks\": \"\"}, \"bgcolor\": \"#E5ECF6\", \"radialaxis\": {\"gridcolor\": \"white\", \"linecolor\": \"white\", \"ticks\": \"\"}}, \"scene\": {\"xaxis\": {\"backgroundcolor\": \"#E5ECF6\", \"gridcolor\": \"white\", \"gridwidth\": 2, \"linecolor\": \"white\", \"showbackground\": true, \"ticks\": \"\", \"zerolinecolor\": \"white\"}, \"yaxis\": {\"backgroundcolor\": \"#E5ECF6\", \"gridcolor\": \"white\", \"gridwidth\": 2, \"linecolor\": \"white\", \"showbackground\": true, \"ticks\": \"\", \"zerolinecolor\": \"white\"}, \"zaxis\": {\"backgroundcolor\": \"#E5ECF6\", \"gridcolor\": \"white\", \"gridwidth\": 2, \"linecolor\": \"white\", \"showbackground\": true, \"ticks\": \"\", \"zerolinecolor\": \"white\"}}, \"shapedefaults\": {\"line\": {\"color\": \"#2a3f5f\"}}, \"ternary\": {\"aaxis\": {\"gridcolor\": \"white\", \"linecolor\": \"white\", \"ticks\": \"\"}, \"baxis\": {\"gridcolor\": \"white\", \"linecolor\": \"white\", \"ticks\": \"\"}, \"bgcolor\": \"#E5ECF6\", \"caxis\": {\"gridcolor\": \"white\", \"linecolor\": \"white\", \"ticks\": \"\"}}, \"title\": {\"x\": 0.05}, \"xaxis\": {\"automargin\": true, \"gridcolor\": \"white\", \"linecolor\": \"white\", \"ticks\": \"\", \"title\": {\"standoff\": 15}, \"zerolinecolor\": \"white\", \"zerolinewidth\": 2}, \"yaxis\": {\"automargin\": true, \"gridcolor\": \"white\", \"linecolor\": \"white\", \"ticks\": \"\", \"title\": {\"standoff\": 15}, \"zerolinecolor\": \"white\", \"zerolinewidth\": 2}}}, \"title\": {\"text\": \"Most common words\"}, \"xaxis\": {\"anchor\": \"y\", \"domain\": [0.0, 1.0], \"title\": {\"text\": \"word\"}}, \"yaxis\": {\"anchor\": \"x\", \"domain\": [0.0, 1.0], \"title\": {\"text\": \"frq\"}}},\n",
              "                        {\"responsive\": true}\n",
              "                    ).then(function(){\n",
              "                            \n",
              "var gd = document.getElementById('b41f2dde-d88a-4d65-b048-9a525aa9d275');\n",
              "var x = new MutationObserver(function (mutations, observer) {{\n",
              "        var display = window.getComputedStyle(gd).display;\n",
              "        if (!display || display === 'none') {{\n",
              "            console.log([gd, 'removed!']);\n",
              "            Plotly.purge(gd);\n",
              "            observer.disconnect();\n",
              "        }}\n",
              "}});\n",
              "\n",
              "// Listen for the removal of the full notebook cells\n",
              "var notebookContainer = gd.closest('#notebook-container');\n",
              "if (notebookContainer) {{\n",
              "    x.observe(notebookContainer, {childList: true});\n",
              "}}\n",
              "\n",
              "// Listen for the clearing of the current output cell\n",
              "var outputEl = gd.closest('.output');\n",
              "if (outputEl) {{\n",
              "    x.observe(outputEl, {childList: true});\n",
              "}}\n",
              "\n",
              "                        })\n",
              "                };\n",
              "                \n",
              "            </script>\n",
              "        </div>\n",
              "</body>\n",
              "</html>"
            ]
          },
          "metadata": {
            "tags": []
          }
        }
      ]
    },
    {
      "cell_type": "markdown",
      "metadata": {
        "id": "crTG6VFXuKq4"
      },
      "source": [
        "### put the Cleaned text in main dataframe"
      ]
    },
    {
      "cell_type": "code",
      "metadata": {
        "trusted": true,
        "colab": {
          "base_uri": "https://localhost:8080/",
          "height": 365
        },
        "id": "YSMdjPM3uKq4",
        "outputId": "f4b5188b-7a22-4282-f8fa-f911e08c6ee6"
      },
      "source": [
        "display(df.head(5))\n",
        "df.text=texts_lr_lc_np_ns\n",
        "display(df.head(5))"
      ],
      "execution_count": 19,
      "outputs": [
        {
          "output_type": "display_data",
          "data": {
            "text/html": [
              "<div>\n",
              "<style scoped>\n",
              "    .dataframe tbody tr th:only-of-type {\n",
              "        vertical-align: middle;\n",
              "    }\n",
              "\n",
              "    .dataframe tbody tr th {\n",
              "        vertical-align: top;\n",
              "    }\n",
              "\n",
              "    .dataframe thead th {\n",
              "        text-align: right;\n",
              "    }\n",
              "</style>\n",
              "<table border=\"1\" class=\"dataframe\">\n",
              "  <thead>\n",
              "    <tr style=\"text-align: right;\">\n",
              "      <th></th>\n",
              "      <th>user_name</th>\n",
              "      <th>date</th>\n",
              "      <th>text</th>\n",
              "    </tr>\n",
              "  </thead>\n",
              "  <tbody>\n",
              "    <tr>\n",
              "      <th>0</th>\n",
              "      <td>7683</td>\n",
              "      <td>2020-07-25</td>\n",
              "      <td>If I smelled the scent of hand sanitizers toda...</td>\n",
              "    </tr>\n",
              "    <tr>\n",
              "      <th>1</th>\n",
              "      <td>6554</td>\n",
              "      <td>2020-07-25</td>\n",
              "      <td>Hey @Yankees @YankeesPR and @MLB - wouldn't it...</td>\n",
              "    </tr>\n",
              "    <tr>\n",
              "      <th>2</th>\n",
              "      <td>6531</td>\n",
              "      <td>2020-07-25</td>\n",
              "      <td>@diane3443 @wdunlap @realDonaldTrump Trump nev...</td>\n",
              "    </tr>\n",
              "    <tr>\n",
              "      <th>3</th>\n",
              "      <td>7246</td>\n",
              "      <td>2020-07-25</td>\n",
              "      <td>@brookbanktv The one gift #COVID19 has give me...</td>\n",
              "    </tr>\n",
              "    <tr>\n",
              "      <th>4</th>\n",
              "      <td>1504</td>\n",
              "      <td>2020-07-25</td>\n",
              "      <td>25 July : Media Bulletin on Novel #CoronaVirus...</td>\n",
              "    </tr>\n",
              "  </tbody>\n",
              "</table>\n",
              "</div>"
            ],
            "text/plain": [
              "   user_name        date                                               text\n",
              "0       7683  2020-07-25  If I smelled the scent of hand sanitizers toda...\n",
              "1       6554  2020-07-25  Hey @Yankees @YankeesPR and @MLB - wouldn't it...\n",
              "2       6531  2020-07-25  @diane3443 @wdunlap @realDonaldTrump Trump nev...\n",
              "3       7246  2020-07-25  @brookbanktv The one gift #COVID19 has give me...\n",
              "4       1504  2020-07-25  25 July : Media Bulletin on Novel #CoronaVirus..."
            ]
          },
          "metadata": {
            "tags": []
          }
        },
        {
          "output_type": "display_data",
          "data": {
            "text/html": [
              "<div>\n",
              "<style scoped>\n",
              "    .dataframe tbody tr th:only-of-type {\n",
              "        vertical-align: middle;\n",
              "    }\n",
              "\n",
              "    .dataframe tbody tr th {\n",
              "        vertical-align: top;\n",
              "    }\n",
              "\n",
              "    .dataframe thead th {\n",
              "        text-align: right;\n",
              "    }\n",
              "</style>\n",
              "<table border=\"1\" class=\"dataframe\">\n",
              "  <thead>\n",
              "    <tr style=\"text-align: right;\">\n",
              "      <th></th>\n",
              "      <th>user_name</th>\n",
              "      <th>date</th>\n",
              "      <th>text</th>\n",
              "    </tr>\n",
              "  </thead>\n",
              "  <tbody>\n",
              "    <tr>\n",
              "      <th>0</th>\n",
              "      <td>7683</td>\n",
              "      <td>2020-07-25</td>\n",
              "      <td>smelled scent hand sanitizers today someone pa...</td>\n",
              "    </tr>\n",
              "    <tr>\n",
              "      <th>1</th>\n",
              "      <td>6554</td>\n",
              "      <td>2020-07-25</td>\n",
              "      <td>hey yankees yankeespr mlb wouldnt made sense p...</td>\n",
              "    </tr>\n",
              "    <tr>\n",
              "      <th>2</th>\n",
              "      <td>6531</td>\n",
              "      <td>2020-07-25</td>\n",
              "      <td>diane3443 wdunlap realdonaldtrump trump never ...</td>\n",
              "    </tr>\n",
              "    <tr>\n",
              "      <th>3</th>\n",
              "      <td>7246</td>\n",
              "      <td>2020-07-25</td>\n",
              "      <td>brookbanktv one gift give appreciation simple ...</td>\n",
              "    </tr>\n",
              "    <tr>\n",
              "      <th>4</th>\n",
              "      <td>1504</td>\n",
              "      <td>2020-07-25</td>\n",
              "      <td>25 july media bulletin novel coronavirusupdate...</td>\n",
              "    </tr>\n",
              "  </tbody>\n",
              "</table>\n",
              "</div>"
            ],
            "text/plain": [
              "   user_name        date                                               text\n",
              "0       7683  2020-07-25  smelled scent hand sanitizers today someone pa...\n",
              "1       6554  2020-07-25  hey yankees yankeespr mlb wouldnt made sense p...\n",
              "2       6531  2020-07-25  diane3443 wdunlap realdonaldtrump trump never ...\n",
              "3       7246  2020-07-25  brookbanktv one gift give appreciation simple ...\n",
              "4       1504  2020-07-25  25 july media bulletin novel coronavirusupdate..."
            ]
          },
          "metadata": {
            "tags": []
          }
        }
      ]
    },
    {
      "cell_type": "markdown",
      "metadata": {
        "id": "y9RxBudhuKq4"
      },
      "source": [
        "### addtional clean"
      ]
    },
    {
      "cell_type": "code",
      "metadata": {
        "trusted": true,
        "colab": {
          "base_uri": "https://localhost:8080/",
          "height": 391
        },
        "id": "g0hs599vuKq5",
        "outputId": "d6a8c89d-7f58-461d-eeca-1fee74a590af"
      },
      "source": [
        "def clean_text(text):\n",
        "    '''Make text lowercase, remove text in square brackets,remove links,remove punctuation\n",
        "    and remove words containing numbers.'''\n",
        "    text = re.sub('\\[.*?\\]', '', text)\n",
        "    text = re.sub('https?://\\S+|www\\.\\S+', '', text)\n",
        "    text = re.sub('<.*?>+', '', text)\n",
        "    text = re.sub('[%s]' % re.escape(string.punctuation), '', text)\n",
        "    text = re.sub('\\n', '', text)\n",
        "    text = re.sub('\\w*\\d\\w*', '', text)\n",
        "    return text\n",
        "df['text'] = df['text'].apply(lambda x: clean_text(x))\n",
        "display(df)"
      ],
      "execution_count": 20,
      "outputs": [
        {
          "output_type": "display_data",
          "data": {
            "text/html": [
              "<div>\n",
              "<style scoped>\n",
              "    .dataframe tbody tr th:only-of-type {\n",
              "        vertical-align: middle;\n",
              "    }\n",
              "\n",
              "    .dataframe tbody tr th {\n",
              "        vertical-align: top;\n",
              "    }\n",
              "\n",
              "    .dataframe thead th {\n",
              "        text-align: right;\n",
              "    }\n",
              "</style>\n",
              "<table border=\"1\" class=\"dataframe\">\n",
              "  <thead>\n",
              "    <tr style=\"text-align: right;\">\n",
              "      <th></th>\n",
              "      <th>user_name</th>\n",
              "      <th>date</th>\n",
              "      <th>text</th>\n",
              "    </tr>\n",
              "  </thead>\n",
              "  <tbody>\n",
              "    <tr>\n",
              "      <th>0</th>\n",
              "      <td>7683</td>\n",
              "      <td>2020-07-25</td>\n",
              "      <td>smelled scent hand sanitizers today someone pa...</td>\n",
              "    </tr>\n",
              "    <tr>\n",
              "      <th>1</th>\n",
              "      <td>6554</td>\n",
              "      <td>2020-07-25</td>\n",
              "      <td>hey yankees yankeespr mlb wouldnt made sense p...</td>\n",
              "    </tr>\n",
              "    <tr>\n",
              "      <th>2</th>\n",
              "      <td>6531</td>\n",
              "      <td>2020-07-25</td>\n",
              "      <td>wdunlap realdonaldtrump trump never claimed h...</td>\n",
              "    </tr>\n",
              "    <tr>\n",
              "      <th>3</th>\n",
              "      <td>7246</td>\n",
              "      <td>2020-07-25</td>\n",
              "      <td>brookbanktv one gift give appreciation simple ...</td>\n",
              "    </tr>\n",
              "    <tr>\n",
              "      <th>4</th>\n",
              "      <td>1504</td>\n",
              "      <td>2020-07-25</td>\n",
              "      <td>july media bulletin novel coronavirusupdates ...</td>\n",
              "    </tr>\n",
              "    <tr>\n",
              "      <th>...</th>\n",
              "      <td>...</td>\n",
              "      <td>...</td>\n",
              "      <td>...</td>\n",
              "    </tr>\n",
              "    <tr>\n",
              "      <th>10951</th>\n",
              "      <td>2582</td>\n",
              "      <td>2020-07-25</td>\n",
              "      <td>high tracking testing rates helped bahrain tak...</td>\n",
              "    </tr>\n",
              "    <tr>\n",
              "      <th>10952</th>\n",
              "      <td>4165</td>\n",
              "      <td>2020-07-25</td>\n",
              "      <td>dont care happens  state union obama orchestra...</td>\n",
              "    </tr>\n",
              "    <tr>\n",
              "      <th>10953</th>\n",
              "      <td>4500</td>\n",
              "      <td>2020-07-25</td>\n",
              "      <td>india’s tally zoomed past  lakhs saturday two ...</td>\n",
              "    </tr>\n",
              "    <tr>\n",
              "      <th>10954</th>\n",
              "      <td>2883</td>\n",
              "      <td>2020-07-25</td>\n",
              "      <td>india  testing us  testing prediction india co...</td>\n",
              "    </tr>\n",
              "    <tr>\n",
              "      <th>10955</th>\n",
              "      <td>4564</td>\n",
              "      <td>NaT</td>\n",
              "      <td>nan</td>\n",
              "    </tr>\n",
              "  </tbody>\n",
              "</table>\n",
              "<p>10956 rows × 3 columns</p>\n",
              "</div>"
            ],
            "text/plain": [
              "       user_name        date                                               text\n",
              "0           7683  2020-07-25  smelled scent hand sanitizers today someone pa...\n",
              "1           6554  2020-07-25  hey yankees yankeespr mlb wouldnt made sense p...\n",
              "2           6531  2020-07-25   wdunlap realdonaldtrump trump never claimed h...\n",
              "3           7246  2020-07-25  brookbanktv one gift give appreciation simple ...\n",
              "4           1504  2020-07-25   july media bulletin novel coronavirusupdates ...\n",
              "...          ...         ...                                                ...\n",
              "10951       2582  2020-07-25  high tracking testing rates helped bahrain tak...\n",
              "10952       4165  2020-07-25  dont care happens  state union obama orchestra...\n",
              "10953       4500  2020-07-25  india’s tally zoomed past  lakhs saturday two ...\n",
              "10954       2883  2020-07-25  india  testing us  testing prediction india co...\n",
              "10955       4564         NaT                                                nan\n",
              "\n",
              "[10956 rows x 3 columns]"
            ]
          },
          "metadata": {
            "tags": []
          }
        }
      ]
    },
    {
      "cell_type": "code",
      "metadata": {
        "trusted": true,
        "id": "YU0YPFynuKq5"
      },
      "source": [
        "def remove_emoji(text):\n",
        "    emoji_pattern = re.compile(\"[\"\n",
        "                           u\"\\U0001F600-\\U0001F64F\"  # emoticons\n",
        "                           u\"\\U0001F300-\\U0001F5FF\"  # symbols & pictographs\n",
        "                           u\"\\U0001F680-\\U0001F6FF\"  # transport & map symbols\n",
        "                           u\"\\U0001F1E0-\\U0001F1FF\"  # flags (iOS)\n",
        "                           u\"\\U00002702-\\U000027B0\"\n",
        "                           u\"\\U000024C2-\\U0001F251\"\n",
        "                           \"]+\", flags=re.UNICODE)\n",
        "    return emoji_pattern.sub(r'', text)\n"
      ],
      "execution_count": 21,
      "outputs": []
    },
    {
      "cell_type": "code",
      "metadata": {
        "trusted": true,
        "colab": {
          "base_uri": "https://localhost:8080/",
          "height": 391
        },
        "id": "lEOtZ6zduKq5",
        "outputId": "cf73546a-ecad-4d81-a7e8-c25f66ec93cb"
      },
      "source": [
        "df['text']=df['text'].apply(lambda x: remove_emoji(x))\n",
        "display(df)"
      ],
      "execution_count": 22,
      "outputs": [
        {
          "output_type": "display_data",
          "data": {
            "text/html": [
              "<div>\n",
              "<style scoped>\n",
              "    .dataframe tbody tr th:only-of-type {\n",
              "        vertical-align: middle;\n",
              "    }\n",
              "\n",
              "    .dataframe tbody tr th {\n",
              "        vertical-align: top;\n",
              "    }\n",
              "\n",
              "    .dataframe thead th {\n",
              "        text-align: right;\n",
              "    }\n",
              "</style>\n",
              "<table border=\"1\" class=\"dataframe\">\n",
              "  <thead>\n",
              "    <tr style=\"text-align: right;\">\n",
              "      <th></th>\n",
              "      <th>user_name</th>\n",
              "      <th>date</th>\n",
              "      <th>text</th>\n",
              "    </tr>\n",
              "  </thead>\n",
              "  <tbody>\n",
              "    <tr>\n",
              "      <th>0</th>\n",
              "      <td>7683</td>\n",
              "      <td>2020-07-25</td>\n",
              "      <td>smelled scent hand sanitizers today someone pa...</td>\n",
              "    </tr>\n",
              "    <tr>\n",
              "      <th>1</th>\n",
              "      <td>6554</td>\n",
              "      <td>2020-07-25</td>\n",
              "      <td>hey yankees yankeespr mlb wouldnt made sense p...</td>\n",
              "    </tr>\n",
              "    <tr>\n",
              "      <th>2</th>\n",
              "      <td>6531</td>\n",
              "      <td>2020-07-25</td>\n",
              "      <td>wdunlap realdonaldtrump trump never claimed h...</td>\n",
              "    </tr>\n",
              "    <tr>\n",
              "      <th>3</th>\n",
              "      <td>7246</td>\n",
              "      <td>2020-07-25</td>\n",
              "      <td>brookbanktv one gift give appreciation simple ...</td>\n",
              "    </tr>\n",
              "    <tr>\n",
              "      <th>4</th>\n",
              "      <td>1504</td>\n",
              "      <td>2020-07-25</td>\n",
              "      <td>july media bulletin novel coronavirusupdates ...</td>\n",
              "    </tr>\n",
              "    <tr>\n",
              "      <th>...</th>\n",
              "      <td>...</td>\n",
              "      <td>...</td>\n",
              "      <td>...</td>\n",
              "    </tr>\n",
              "    <tr>\n",
              "      <th>10951</th>\n",
              "      <td>2582</td>\n",
              "      <td>2020-07-25</td>\n",
              "      <td>high tracking testing rates helped bahrain tak...</td>\n",
              "    </tr>\n",
              "    <tr>\n",
              "      <th>10952</th>\n",
              "      <td>4165</td>\n",
              "      <td>2020-07-25</td>\n",
              "      <td>dont care happens  state union obama orchestra...</td>\n",
              "    </tr>\n",
              "    <tr>\n",
              "      <th>10953</th>\n",
              "      <td>4500</td>\n",
              "      <td>2020-07-25</td>\n",
              "      <td>india’s tally zoomed past  lakhs saturday two ...</td>\n",
              "    </tr>\n",
              "    <tr>\n",
              "      <th>10954</th>\n",
              "      <td>2883</td>\n",
              "      <td>2020-07-25</td>\n",
              "      <td>india  testing us  testing prediction india co...</td>\n",
              "    </tr>\n",
              "    <tr>\n",
              "      <th>10955</th>\n",
              "      <td>4564</td>\n",
              "      <td>NaT</td>\n",
              "      <td>nan</td>\n",
              "    </tr>\n",
              "  </tbody>\n",
              "</table>\n",
              "<p>10956 rows × 3 columns</p>\n",
              "</div>"
            ],
            "text/plain": [
              "       user_name        date                                               text\n",
              "0           7683  2020-07-25  smelled scent hand sanitizers today someone pa...\n",
              "1           6554  2020-07-25  hey yankees yankeespr mlb wouldnt made sense p...\n",
              "2           6531  2020-07-25   wdunlap realdonaldtrump trump never claimed h...\n",
              "3           7246  2020-07-25  brookbanktv one gift give appreciation simple ...\n",
              "4           1504  2020-07-25   july media bulletin novel coronavirusupdates ...\n",
              "...          ...         ...                                                ...\n",
              "10951       2582  2020-07-25  high tracking testing rates helped bahrain tak...\n",
              "10952       4165  2020-07-25  dont care happens  state union obama orchestra...\n",
              "10953       4500  2020-07-25  india’s tally zoomed past  lakhs saturday two ...\n",
              "10954       2883  2020-07-25  india  testing us  testing prediction india co...\n",
              "10955       4564         NaT                                                nan\n",
              "\n",
              "[10956 rows x 3 columns]"
            ]
          },
          "metadata": {
            "tags": []
          }
        }
      ]
    },
    {
      "cell_type": "markdown",
      "metadata": {
        "id": "Qh1z-G3luKq6"
      },
      "source": [
        "# Sentiment Analysis "
      ]
    },
    {
      "cell_type": "markdown",
      "metadata": {
        "id": "7s6gG9iQuKq6"
      },
      "source": [
        "Getting the polarity scores for each tweet"
      ]
    },
    {
      "cell_type": "code",
      "metadata": {
        "trusted": true,
        "colab": {
          "base_uri": "https://localhost:8080/"
        },
        "id": "7Ada1CN9uKq6",
        "outputId": "31e8d0a7-f457-47ee-e947-e5c78623bada"
      },
      "source": [
        "sid=SentimentIntensityAnalyzer()\n",
        "ps=lambda x:sid.polarity_scores(x)\n",
        "sentiment_scores=df.text.apply(ps)\n",
        "sentiment_scores"
      ],
      "execution_count": 23,
      "outputs": [
        {
          "output_type": "execute_result",
          "data": {
            "text/plain": [
              "0        {'neg': 0.0, 'neu': 0.758, 'pos': 0.242, 'comp...\n",
              "1        {'neg': 0.11, 'neu': 0.709, 'pos': 0.181, 'com...\n",
              "2        {'neg': 0.0, 'neu': 0.815, 'pos': 0.185, 'comp...\n",
              "3        {'neg': 0.0, 'neu': 0.563, 'pos': 0.437, 'comp...\n",
              "4        {'neg': 0.0, 'neu': 0.753, 'pos': 0.247, 'comp...\n",
              "                               ...                        \n",
              "10951    {'neg': 0.206, 'neu': 0.794, 'pos': 0.0, 'comp...\n",
              "10952    {'neg': 0.273, 'neu': 0.727, 'pos': 0.0, 'comp...\n",
              "10953    {'neg': 0.0, 'neu': 1.0, 'pos': 0.0, 'compound...\n",
              "10954    {'neg': 0.0, 'neu': 1.0, 'pos': 0.0, 'compound...\n",
              "10955    {'neg': 0.0, 'neu': 1.0, 'pos': 0.0, 'compound...\n",
              "Name: text, Length: 10956, dtype: object"
            ]
          },
          "metadata": {
            "tags": []
          },
          "execution_count": 23
        }
      ]
    },
    {
      "cell_type": "code",
      "metadata": {
        "trusted": true,
        "colab": {
          "base_uri": "https://localhost:8080/",
          "height": 391
        },
        "id": "9ycNHly9uKq7",
        "outputId": "2847cef0-95a5-4076-bce0-3d9c274a99f1"
      },
      "source": [
        "sentiment_df=pd.DataFrame(data=list(sentiment_scores))\n",
        "display(sentiment_df)"
      ],
      "execution_count": 24,
      "outputs": [
        {
          "output_type": "display_data",
          "data": {
            "text/html": [
              "<div>\n",
              "<style scoped>\n",
              "    .dataframe tbody tr th:only-of-type {\n",
              "        vertical-align: middle;\n",
              "    }\n",
              "\n",
              "    .dataframe tbody tr th {\n",
              "        vertical-align: top;\n",
              "    }\n",
              "\n",
              "    .dataframe thead th {\n",
              "        text-align: right;\n",
              "    }\n",
              "</style>\n",
              "<table border=\"1\" class=\"dataframe\">\n",
              "  <thead>\n",
              "    <tr style=\"text-align: right;\">\n",
              "      <th></th>\n",
              "      <th>neg</th>\n",
              "      <th>neu</th>\n",
              "      <th>pos</th>\n",
              "      <th>compound</th>\n",
              "    </tr>\n",
              "  </thead>\n",
              "  <tbody>\n",
              "    <tr>\n",
              "      <th>0</th>\n",
              "      <td>0.000</td>\n",
              "      <td>0.758</td>\n",
              "      <td>0.242</td>\n",
              "      <td>0.4939</td>\n",
              "    </tr>\n",
              "    <tr>\n",
              "      <th>1</th>\n",
              "      <td>0.110</td>\n",
              "      <td>0.709</td>\n",
              "      <td>0.181</td>\n",
              "      <td>0.2263</td>\n",
              "    </tr>\n",
              "    <tr>\n",
              "      <th>2</th>\n",
              "      <td>0.000</td>\n",
              "      <td>0.815</td>\n",
              "      <td>0.185</td>\n",
              "      <td>0.2057</td>\n",
              "    </tr>\n",
              "    <tr>\n",
              "      <th>3</th>\n",
              "      <td>0.000</td>\n",
              "      <td>0.563</td>\n",
              "      <td>0.437</td>\n",
              "      <td>0.7351</td>\n",
              "    </tr>\n",
              "    <tr>\n",
              "      <th>4</th>\n",
              "      <td>0.000</td>\n",
              "      <td>0.753</td>\n",
              "      <td>0.247</td>\n",
              "      <td>0.3182</td>\n",
              "    </tr>\n",
              "    <tr>\n",
              "      <th>...</th>\n",
              "      <td>...</td>\n",
              "      <td>...</td>\n",
              "      <td>...</td>\n",
              "      <td>...</td>\n",
              "    </tr>\n",
              "    <tr>\n",
              "      <th>10951</th>\n",
              "      <td>0.206</td>\n",
              "      <td>0.794</td>\n",
              "      <td>0.000</td>\n",
              "      <td>-0.3818</td>\n",
              "    </tr>\n",
              "    <tr>\n",
              "      <th>10952</th>\n",
              "      <td>0.273</td>\n",
              "      <td>0.727</td>\n",
              "      <td>0.000</td>\n",
              "      <td>-0.3875</td>\n",
              "    </tr>\n",
              "    <tr>\n",
              "      <th>10953</th>\n",
              "      <td>0.000</td>\n",
              "      <td>1.000</td>\n",
              "      <td>0.000</td>\n",
              "      <td>0.0000</td>\n",
              "    </tr>\n",
              "    <tr>\n",
              "      <th>10954</th>\n",
              "      <td>0.000</td>\n",
              "      <td>1.000</td>\n",
              "      <td>0.000</td>\n",
              "      <td>0.0000</td>\n",
              "    </tr>\n",
              "    <tr>\n",
              "      <th>10955</th>\n",
              "      <td>0.000</td>\n",
              "      <td>1.000</td>\n",
              "      <td>0.000</td>\n",
              "      <td>0.0000</td>\n",
              "    </tr>\n",
              "  </tbody>\n",
              "</table>\n",
              "<p>10956 rows × 4 columns</p>\n",
              "</div>"
            ],
            "text/plain": [
              "         neg    neu    pos  compound\n",
              "0      0.000  0.758  0.242    0.4939\n",
              "1      0.110  0.709  0.181    0.2263\n",
              "2      0.000  0.815  0.185    0.2057\n",
              "3      0.000  0.563  0.437    0.7351\n",
              "4      0.000  0.753  0.247    0.3182\n",
              "...      ...    ...    ...       ...\n",
              "10951  0.206  0.794  0.000   -0.3818\n",
              "10952  0.273  0.727  0.000   -0.3875\n",
              "10953  0.000  1.000  0.000    0.0000\n",
              "10954  0.000  1.000  0.000    0.0000\n",
              "10955  0.000  1.000  0.000    0.0000\n",
              "\n",
              "[10956 rows x 4 columns]"
            ]
          },
          "metadata": {
            "tags": []
          }
        }
      ]
    },
    {
      "cell_type": "markdown",
      "metadata": {
        "id": "nOgQe-3zuKq7"
      },
      "source": [
        "### Labeling the scores based on the compound polarity value"
      ]
    },
    {
      "cell_type": "code",
      "metadata": {
        "trusted": true,
        "colab": {
          "base_uri": "https://localhost:8080/",
          "height": 335
        },
        "id": "rOmRRtbnuKq7",
        "outputId": "92266c81-0412-4156-c63f-d59c353da61d"
      },
      "source": [
        "labelize=lambda x:'neutral' if x==0 else('positive' if x>0 else 'negative')\n",
        "sentiment_df['label']=sentiment_df.compound.apply(labelize)\n",
        "display(sentiment_df.head(10))"
      ],
      "execution_count": 25,
      "outputs": [
        {
          "output_type": "display_data",
          "data": {
            "text/html": [
              "<div>\n",
              "<style scoped>\n",
              "    .dataframe tbody tr th:only-of-type {\n",
              "        vertical-align: middle;\n",
              "    }\n",
              "\n",
              "    .dataframe tbody tr th {\n",
              "        vertical-align: top;\n",
              "    }\n",
              "\n",
              "    .dataframe thead th {\n",
              "        text-align: right;\n",
              "    }\n",
              "</style>\n",
              "<table border=\"1\" class=\"dataframe\">\n",
              "  <thead>\n",
              "    <tr style=\"text-align: right;\">\n",
              "      <th></th>\n",
              "      <th>neg</th>\n",
              "      <th>neu</th>\n",
              "      <th>pos</th>\n",
              "      <th>compound</th>\n",
              "      <th>label</th>\n",
              "    </tr>\n",
              "  </thead>\n",
              "  <tbody>\n",
              "    <tr>\n",
              "      <th>0</th>\n",
              "      <td>0.000</td>\n",
              "      <td>0.758</td>\n",
              "      <td>0.242</td>\n",
              "      <td>0.4939</td>\n",
              "      <td>positive</td>\n",
              "    </tr>\n",
              "    <tr>\n",
              "      <th>1</th>\n",
              "      <td>0.110</td>\n",
              "      <td>0.709</td>\n",
              "      <td>0.181</td>\n",
              "      <td>0.2263</td>\n",
              "      <td>positive</td>\n",
              "    </tr>\n",
              "    <tr>\n",
              "      <th>2</th>\n",
              "      <td>0.000</td>\n",
              "      <td>0.815</td>\n",
              "      <td>0.185</td>\n",
              "      <td>0.2057</td>\n",
              "      <td>positive</td>\n",
              "    </tr>\n",
              "    <tr>\n",
              "      <th>3</th>\n",
              "      <td>0.000</td>\n",
              "      <td>0.563</td>\n",
              "      <td>0.437</td>\n",
              "      <td>0.7351</td>\n",
              "      <td>positive</td>\n",
              "    </tr>\n",
              "    <tr>\n",
              "      <th>4</th>\n",
              "      <td>0.000</td>\n",
              "      <td>0.753</td>\n",
              "      <td>0.247</td>\n",
              "      <td>0.3182</td>\n",
              "      <td>positive</td>\n",
              "    </tr>\n",
              "    <tr>\n",
              "      <th>5</th>\n",
              "      <td>0.286</td>\n",
              "      <td>0.714</td>\n",
              "      <td>0.000</td>\n",
              "      <td>-0.4951</td>\n",
              "      <td>negative</td>\n",
              "    </tr>\n",
              "    <tr>\n",
              "      <th>6</th>\n",
              "      <td>0.000</td>\n",
              "      <td>1.000</td>\n",
              "      <td>0.000</td>\n",
              "      <td>0.0000</td>\n",
              "      <td>neutral</td>\n",
              "    </tr>\n",
              "    <tr>\n",
              "      <th>7</th>\n",
              "      <td>0.000</td>\n",
              "      <td>1.000</td>\n",
              "      <td>0.000</td>\n",
              "      <td>0.0000</td>\n",
              "      <td>neutral</td>\n",
              "    </tr>\n",
              "    <tr>\n",
              "      <th>8</th>\n",
              "      <td>0.000</td>\n",
              "      <td>0.426</td>\n",
              "      <td>0.574</td>\n",
              "      <td>0.6597</td>\n",
              "      <td>positive</td>\n",
              "    </tr>\n",
              "    <tr>\n",
              "      <th>9</th>\n",
              "      <td>0.000</td>\n",
              "      <td>0.769</td>\n",
              "      <td>0.231</td>\n",
              "      <td>0.2732</td>\n",
              "      <td>positive</td>\n",
              "    </tr>\n",
              "  </tbody>\n",
              "</table>\n",
              "</div>"
            ],
            "text/plain": [
              "     neg    neu    pos  compound     label\n",
              "0  0.000  0.758  0.242    0.4939  positive\n",
              "1  0.110  0.709  0.181    0.2263  positive\n",
              "2  0.000  0.815  0.185    0.2057  positive\n",
              "3  0.000  0.563  0.437    0.7351  positive\n",
              "4  0.000  0.753  0.247    0.3182  positive\n",
              "5  0.286  0.714  0.000   -0.4951  negative\n",
              "6  0.000  1.000  0.000    0.0000   neutral\n",
              "7  0.000  1.000  0.000    0.0000   neutral\n",
              "8  0.000  0.426  0.574    0.6597  positive\n",
              "9  0.000  0.769  0.231    0.2732  positive"
            ]
          },
          "metadata": {
            "tags": []
          }
        }
      ]
    },
    {
      "cell_type": "markdown",
      "metadata": {
        "id": "mk4NsvlYuKq7"
      },
      "source": [
        "### let's join two dataframes"
      ]
    },
    {
      "cell_type": "code",
      "metadata": {
        "trusted": true,
        "colab": {
          "base_uri": "https://localhost:8080/",
          "height": 365
        },
        "id": "LL_vd16EuKq8",
        "outputId": "b4e19327-79fb-4ad5-91ec-f02cec9bf6d4"
      },
      "source": [
        "display(df.head(5))\n",
        "data=df.join(sentiment_df.label)\n",
        "display(data.head(5))"
      ],
      "execution_count": 26,
      "outputs": [
        {
          "output_type": "display_data",
          "data": {
            "text/html": [
              "<div>\n",
              "<style scoped>\n",
              "    .dataframe tbody tr th:only-of-type {\n",
              "        vertical-align: middle;\n",
              "    }\n",
              "\n",
              "    .dataframe tbody tr th {\n",
              "        vertical-align: top;\n",
              "    }\n",
              "\n",
              "    .dataframe thead th {\n",
              "        text-align: right;\n",
              "    }\n",
              "</style>\n",
              "<table border=\"1\" class=\"dataframe\">\n",
              "  <thead>\n",
              "    <tr style=\"text-align: right;\">\n",
              "      <th></th>\n",
              "      <th>user_name</th>\n",
              "      <th>date</th>\n",
              "      <th>text</th>\n",
              "    </tr>\n",
              "  </thead>\n",
              "  <tbody>\n",
              "    <tr>\n",
              "      <th>0</th>\n",
              "      <td>7683</td>\n",
              "      <td>2020-07-25</td>\n",
              "      <td>smelled scent hand sanitizers today someone pa...</td>\n",
              "    </tr>\n",
              "    <tr>\n",
              "      <th>1</th>\n",
              "      <td>6554</td>\n",
              "      <td>2020-07-25</td>\n",
              "      <td>hey yankees yankeespr mlb wouldnt made sense p...</td>\n",
              "    </tr>\n",
              "    <tr>\n",
              "      <th>2</th>\n",
              "      <td>6531</td>\n",
              "      <td>2020-07-25</td>\n",
              "      <td>wdunlap realdonaldtrump trump never claimed h...</td>\n",
              "    </tr>\n",
              "    <tr>\n",
              "      <th>3</th>\n",
              "      <td>7246</td>\n",
              "      <td>2020-07-25</td>\n",
              "      <td>brookbanktv one gift give appreciation simple ...</td>\n",
              "    </tr>\n",
              "    <tr>\n",
              "      <th>4</th>\n",
              "      <td>1504</td>\n",
              "      <td>2020-07-25</td>\n",
              "      <td>july media bulletin novel coronavirusupdates ...</td>\n",
              "    </tr>\n",
              "  </tbody>\n",
              "</table>\n",
              "</div>"
            ],
            "text/plain": [
              "   user_name        date                                               text\n",
              "0       7683  2020-07-25  smelled scent hand sanitizers today someone pa...\n",
              "1       6554  2020-07-25  hey yankees yankeespr mlb wouldnt made sense p...\n",
              "2       6531  2020-07-25   wdunlap realdonaldtrump trump never claimed h...\n",
              "3       7246  2020-07-25  brookbanktv one gift give appreciation simple ...\n",
              "4       1504  2020-07-25   july media bulletin novel coronavirusupdates ..."
            ]
          },
          "metadata": {
            "tags": []
          }
        },
        {
          "output_type": "display_data",
          "data": {
            "text/html": [
              "<div>\n",
              "<style scoped>\n",
              "    .dataframe tbody tr th:only-of-type {\n",
              "        vertical-align: middle;\n",
              "    }\n",
              "\n",
              "    .dataframe tbody tr th {\n",
              "        vertical-align: top;\n",
              "    }\n",
              "\n",
              "    .dataframe thead th {\n",
              "        text-align: right;\n",
              "    }\n",
              "</style>\n",
              "<table border=\"1\" class=\"dataframe\">\n",
              "  <thead>\n",
              "    <tr style=\"text-align: right;\">\n",
              "      <th></th>\n",
              "      <th>user_name</th>\n",
              "      <th>date</th>\n",
              "      <th>text</th>\n",
              "      <th>label</th>\n",
              "    </tr>\n",
              "  </thead>\n",
              "  <tbody>\n",
              "    <tr>\n",
              "      <th>0</th>\n",
              "      <td>7683</td>\n",
              "      <td>2020-07-25</td>\n",
              "      <td>smelled scent hand sanitizers today someone pa...</td>\n",
              "      <td>positive</td>\n",
              "    </tr>\n",
              "    <tr>\n",
              "      <th>1</th>\n",
              "      <td>6554</td>\n",
              "      <td>2020-07-25</td>\n",
              "      <td>hey yankees yankeespr mlb wouldnt made sense p...</td>\n",
              "      <td>positive</td>\n",
              "    </tr>\n",
              "    <tr>\n",
              "      <th>2</th>\n",
              "      <td>6531</td>\n",
              "      <td>2020-07-25</td>\n",
              "      <td>wdunlap realdonaldtrump trump never claimed h...</td>\n",
              "      <td>positive</td>\n",
              "    </tr>\n",
              "    <tr>\n",
              "      <th>3</th>\n",
              "      <td>7246</td>\n",
              "      <td>2020-07-25</td>\n",
              "      <td>brookbanktv one gift give appreciation simple ...</td>\n",
              "      <td>positive</td>\n",
              "    </tr>\n",
              "    <tr>\n",
              "      <th>4</th>\n",
              "      <td>1504</td>\n",
              "      <td>2020-07-25</td>\n",
              "      <td>july media bulletin novel coronavirusupdates ...</td>\n",
              "      <td>positive</td>\n",
              "    </tr>\n",
              "  </tbody>\n",
              "</table>\n",
              "</div>"
            ],
            "text/plain": [
              "   user_name  ...     label\n",
              "0       7683  ...  positive\n",
              "1       6554  ...  positive\n",
              "2       6531  ...  positive\n",
              "3       7246  ...  positive\n",
              "4       1504  ...  positive\n",
              "\n",
              "[5 rows x 4 columns]"
            ]
          },
          "metadata": {
            "tags": []
          }
        }
      ]
    },
    {
      "cell_type": "markdown",
      "metadata": {
        "id": "wRynb8xpuKq8"
      },
      "source": [
        "### Plotting the sentiment score counts"
      ]
    },
    {
      "cell_type": "code",
      "metadata": {
        "trusted": true,
        "colab": {
          "base_uri": "https://localhost:8080/",
          "height": 133
        },
        "id": "r2uTgCwnuKq8",
        "outputId": "bbceae15-ade4-4bbd-d63a-9eba01642768"
      },
      "source": [
        "counts_df=data.label.value_counts().reset_index()\n",
        "display(counts_df)"
      ],
      "execution_count": 27,
      "outputs": [
        {
          "output_type": "display_data",
          "data": {
            "text/html": [
              "<div>\n",
              "<style scoped>\n",
              "    .dataframe tbody tr th:only-of-type {\n",
              "        vertical-align: middle;\n",
              "    }\n",
              "\n",
              "    .dataframe tbody tr th {\n",
              "        vertical-align: top;\n",
              "    }\n",
              "\n",
              "    .dataframe thead th {\n",
              "        text-align: right;\n",
              "    }\n",
              "</style>\n",
              "<table border=\"1\" class=\"dataframe\">\n",
              "  <thead>\n",
              "    <tr style=\"text-align: right;\">\n",
              "      <th></th>\n",
              "      <th>index</th>\n",
              "      <th>label</th>\n",
              "    </tr>\n",
              "  </thead>\n",
              "  <tbody>\n",
              "    <tr>\n",
              "      <th>0</th>\n",
              "      <td>positive</td>\n",
              "      <td>4463</td>\n",
              "    </tr>\n",
              "    <tr>\n",
              "      <th>1</th>\n",
              "      <td>neutral</td>\n",
              "      <td>3825</td>\n",
              "    </tr>\n",
              "    <tr>\n",
              "      <th>2</th>\n",
              "      <td>negative</td>\n",
              "      <td>2668</td>\n",
              "    </tr>\n",
              "  </tbody>\n",
              "</table>\n",
              "</div>"
            ],
            "text/plain": [
              "      index  label\n",
              "0  positive   4463\n",
              "1   neutral   3825\n",
              "2  negative   2668"
            ]
          },
          "metadata": {
            "tags": []
          }
        }
      ]
    },
    {
      "cell_type": "code",
      "metadata": {
        "trusted": true,
        "colab": {
          "base_uri": "https://localhost:8080/",
          "height": 355
        },
        "id": "gqIxT7xouKq8",
        "outputId": "fa0f9dcf-9f18-40a2-b625-c093dc270e31"
      },
      "source": [
        "plt.figure(figsize=(8,5)) \n",
        "sns.barplot(x='index',y='label',data=counts_df)"
      ],
      "execution_count": 28,
      "outputs": [
        {
          "output_type": "execute_result",
          "data": {
            "text/plain": [
              "<matplotlib.axes._subplots.AxesSubplot at 0x7f517e995b10>"
            ]
          },
          "metadata": {
            "tags": []
          },
          "execution_count": 28
        },
        {
          "output_type": "display_data",
          "data": {
            "image/png": "[encoded data removed]",
            "text/plain": [
              "<Figure size 576x360 with 1 Axes>"
            ]
          },
          "metadata": {
            "tags": [],
            "needs_background": "light"
          }
        }
      ]
    },
    {
      "cell_type": "markdown",
      "metadata": {
        "id": "9EYNYyVuuKq9"
      },
      "source": [
        "# Naive Bayes "
      ]
    },
    {
      "cell_type": "code",
      "metadata": {
        "trusted": true,
        "colab": {
          "base_uri": "https://localhost:8080/",
          "height": 521
        },
        "id": "nQeLggNkuKq9",
        "outputId": "00e592f7-a6b2-4f79-f6df-47381ace21e1"
      },
      "source": [
        "tweets_df=data[['label','text']]\n",
        "tweets_df['length']=tweets_df['text'].apply(len)\n",
        "tweets_df"
      ],
      "execution_count": 29,
      "outputs": [
        {
          "output_type": "stream",
          "text": [
            "/usr/local/lib/python3.7/dist-packages/ipykernel_launcher.py:2: SettingWithCopyWarning:\n",
            "\n",
            "\n",
            "A value is trying to be set on a copy of a slice from a DataFrame.\n",
            "Try using .loc[row_indexer,col_indexer] = value instead\n",
            "\n",
            "See the caveats in the documentation: https://pandas.pydata.org/pandas-docs/stable/user_guide/indexing.html#returning-a-view-versus-a-copy\n",
            "\n"
          ],
          "name": "stderr"
        },
        {
          "output_type": "execute_result",
          "data": {
            "text/html": [
              "<div>\n",
              "<style scoped>\n",
              "    .dataframe tbody tr th:only-of-type {\n",
              "        vertical-align: middle;\n",
              "    }\n",
              "\n",
              "    .dataframe tbody tr th {\n",
              "        vertical-align: top;\n",
              "    }\n",
              "\n",
              "    .dataframe thead th {\n",
              "        text-align: right;\n",
              "    }\n",
              "</style>\n",
              "<table border=\"1\" class=\"dataframe\">\n",
              "  <thead>\n",
              "    <tr style=\"text-align: right;\">\n",
              "      <th></th>\n",
              "      <th>label</th>\n",
              "      <th>text</th>\n",
              "      <th>length</th>\n",
              "    </tr>\n",
              "  </thead>\n",
              "  <tbody>\n",
              "    <tr>\n",
              "      <th>0</th>\n",
              "      <td>positive</td>\n",
              "      <td>smelled scent hand sanitizers today someone pa...</td>\n",
              "      <td>78</td>\n",
              "    </tr>\n",
              "    <tr>\n",
              "      <th>1</th>\n",
              "      <td>positive</td>\n",
              "      <td>hey yankees yankeespr mlb wouldnt made sense p...</td>\n",
              "      <td>68</td>\n",
              "    </tr>\n",
              "    <tr>\n",
              "      <th>2</th>\n",
              "      <td>positive</td>\n",
              "      <td>wdunlap realdonaldtrump trump never claimed h...</td>\n",
              "      <td>66</td>\n",
              "    </tr>\n",
              "    <tr>\n",
              "      <th>3</th>\n",
              "      <td>positive</td>\n",
              "      <td>brookbanktv one gift give appreciation simple ...</td>\n",
              "      <td>70</td>\n",
              "    </tr>\n",
              "    <tr>\n",
              "      <th>4</th>\n",
              "      <td>positive</td>\n",
              "      <td>july media bulletin novel coronavirusupdates ...</td>\n",
              "      <td>79</td>\n",
              "    </tr>\n",
              "    <tr>\n",
              "      <th>...</th>\n",
              "      <td>...</td>\n",
              "      <td>...</td>\n",
              "      <td>...</td>\n",
              "    </tr>\n",
              "    <tr>\n",
              "      <th>10951</th>\n",
              "      <td>negative</td>\n",
              "      <td>high tracking testing rates helped bahrain tak...</td>\n",
              "      <td>68</td>\n",
              "    </tr>\n",
              "    <tr>\n",
              "      <th>10952</th>\n",
              "      <td>negative</td>\n",
              "      <td>dont care happens  state union obama orchestra...</td>\n",
              "      <td>55</td>\n",
              "    </tr>\n",
              "    <tr>\n",
              "      <th>10953</th>\n",
              "      <td>neutral</td>\n",
              "      <td>india’s tally zoomed past  lakhs saturday two ...</td>\n",
              "      <td>73</td>\n",
              "    </tr>\n",
              "    <tr>\n",
              "      <th>10954</th>\n",
              "      <td>neutral</td>\n",
              "      <td>india  testing us  testing prediction india co...</td>\n",
              "      <td>61</td>\n",
              "    </tr>\n",
              "    <tr>\n",
              "      <th>10955</th>\n",
              "      <td>neutral</td>\n",
              "      <td>nan</td>\n",
              "      <td>3</td>\n",
              "    </tr>\n",
              "  </tbody>\n",
              "</table>\n",
              "<p>10956 rows × 3 columns</p>\n",
              "</div>"
            ],
            "text/plain": [
              "          label                                               text  length\n",
              "0      positive  smelled scent hand sanitizers today someone pa...      78\n",
              "1      positive  hey yankees yankeespr mlb wouldnt made sense p...      68\n",
              "2      positive   wdunlap realdonaldtrump trump never claimed h...      66\n",
              "3      positive  brookbanktv one gift give appreciation simple ...      70\n",
              "4      positive   july media bulletin novel coronavirusupdates ...      79\n",
              "...         ...                                                ...     ...\n",
              "10951  negative  high tracking testing rates helped bahrain tak...      68\n",
              "10952  negative  dont care happens  state union obama orchestra...      55\n",
              "10953   neutral  india’s tally zoomed past  lakhs saturday two ...      73\n",
              "10954   neutral  india  testing us  testing prediction india co...      61\n",
              "10955   neutral                                                nan       3\n",
              "\n",
              "[10956 rows x 3 columns]"
            ]
          },
          "metadata": {
            "tags": []
          },
          "execution_count": 29
        }
      ]
    },
    {
      "cell_type": "code",
      "metadata": {
        "trusted": true,
        "colab": {
          "base_uri": "https://localhost:8080/",
          "height": 277
        },
        "id": "xByKPHrSuKq9",
        "outputId": "9b6d3492-8f03-415b-8010-145fe7fca413"
      },
      "source": [
        "tweets_df.describe()"
      ],
      "execution_count": 30,
      "outputs": [
        {
          "output_type": "execute_result",
          "data": {
            "text/html": [
              "<div>\n",
              "<style scoped>\n",
              "    .dataframe tbody tr th:only-of-type {\n",
              "        vertical-align: middle;\n",
              "    }\n",
              "\n",
              "    .dataframe tbody tr th {\n",
              "        vertical-align: top;\n",
              "    }\n",
              "\n",
              "    .dataframe thead th {\n",
              "        text-align: right;\n",
              "    }\n",
              "</style>\n",
              "<table border=\"1\" class=\"dataframe\">\n",
              "  <thead>\n",
              "    <tr style=\"text-align: right;\">\n",
              "      <th></th>\n",
              "      <th>length</th>\n",
              "    </tr>\n",
              "  </thead>\n",
              "  <tbody>\n",
              "    <tr>\n",
              "      <th>count</th>\n",
              "      <td>10956.000000</td>\n",
              "    </tr>\n",
              "    <tr>\n",
              "      <th>mean</th>\n",
              "      <td>71.174608</td>\n",
              "    </tr>\n",
              "    <tr>\n",
              "      <th>std</th>\n",
              "      <td>17.986427</td>\n",
              "    </tr>\n",
              "    <tr>\n",
              "      <th>min</th>\n",
              "      <td>0.000000</td>\n",
              "    </tr>\n",
              "    <tr>\n",
              "      <th>25%</th>\n",
              "      <td>62.000000</td>\n",
              "    </tr>\n",
              "    <tr>\n",
              "      <th>50%</th>\n",
              "      <td>74.000000</td>\n",
              "    </tr>\n",
              "    <tr>\n",
              "      <th>75%</th>\n",
              "      <td>83.000000</td>\n",
              "    </tr>\n",
              "    <tr>\n",
              "      <th>max</th>\n",
              "      <td>116.000000</td>\n",
              "    </tr>\n",
              "  </tbody>\n",
              "</table>\n",
              "</div>"
            ],
            "text/plain": [
              "             length\n",
              "count  10956.000000\n",
              "mean      71.174608\n",
              "std       17.986427\n",
              "min        0.000000\n",
              "25%       62.000000\n",
              "50%       74.000000\n",
              "75%       83.000000\n",
              "max      116.000000"
            ]
          },
          "metadata": {
            "tags": []
          },
          "execution_count": 30
        }
      ]
    },
    {
      "cell_type": "code",
      "metadata": {
        "trusted": true,
        "colab": {
          "base_uri": "https://localhost:8080/",
          "height": 283
        },
        "id": "YehFFVv0uKq9",
        "outputId": "4b92ddbb-5508-4c86-fd39-561358a01ef2"
      },
      "source": [
        "# hist plot for the length of tweets\n",
        "tweets_df['length'].plot(bins=100,kind='hist')"
      ],
      "execution_count": 31,
      "outputs": [
        {
          "output_type": "execute_result",
          "data": {
            "text/plain": [
              "<matplotlib.axes._subplots.AxesSubplot at 0x7f517e11a490>"
            ]
          },
          "metadata": {
            "tags": []
          },
          "execution_count": 31
        },
        {
          "output_type": "display_data",
          "data": {
            "image/png": "[encoded data removed]",
            "text/plain": [
              "<Figure size 432x288 with 1 Axes>"
            ]
          },
          "metadata": {
            "tags": [],
            "needs_background": "light"
          }
        }
      ]
    },
    {
      "cell_type": "code",
      "metadata": {
        "trusted": true,
        "id": "hixRVfZKuKq-"
      },
      "source": [
        "positive=tweets_df[tweets_df.label=='positive']\n",
        "negative=tweets_df[tweets_df.label=='negative']"
      ],
      "execution_count": 32,
      "outputs": []
    },
    {
      "cell_type": "code",
      "metadata": {
        "trusted": true,
        "colab": {
          "base_uri": "https://localhost:8080/",
          "height": 191
        },
        "id": "Bhd4pHCIuKq-",
        "outputId": "1a8c3bd0-f3e3-42df-a44f-9c2b034f1783"
      },
      "source": [
        "positive.head()"
      ],
      "execution_count": 33,
      "outputs": [
        {
          "output_type": "execute_result",
          "data": {
            "text/html": [
              "<div>\n",
              "<style scoped>\n",
              "    .dataframe tbody tr th:only-of-type {\n",
              "        vertical-align: middle;\n",
              "    }\n",
              "\n",
              "    .dataframe tbody tr th {\n",
              "        vertical-align: top;\n",
              "    }\n",
              "\n",
              "    .dataframe thead th {\n",
              "        text-align: right;\n",
              "    }\n",
              "</style>\n",
              "<table border=\"1\" class=\"dataframe\">\n",
              "  <thead>\n",
              "    <tr style=\"text-align: right;\">\n",
              "      <th></th>\n",
              "      <th>label</th>\n",
              "      <th>text</th>\n",
              "      <th>length</th>\n",
              "    </tr>\n",
              "  </thead>\n",
              "  <tbody>\n",
              "    <tr>\n",
              "      <th>0</th>\n",
              "      <td>positive</td>\n",
              "      <td>smelled scent hand sanitizers today someone pa...</td>\n",
              "      <td>78</td>\n",
              "    </tr>\n",
              "    <tr>\n",
              "      <th>1</th>\n",
              "      <td>positive</td>\n",
              "      <td>hey yankees yankeespr mlb wouldnt made sense p...</td>\n",
              "      <td>68</td>\n",
              "    </tr>\n",
              "    <tr>\n",
              "      <th>2</th>\n",
              "      <td>positive</td>\n",
              "      <td>wdunlap realdonaldtrump trump never claimed h...</td>\n",
              "      <td>66</td>\n",
              "    </tr>\n",
              "    <tr>\n",
              "      <th>3</th>\n",
              "      <td>positive</td>\n",
              "      <td>brookbanktv one gift give appreciation simple ...</td>\n",
              "      <td>70</td>\n",
              "    </tr>\n",
              "    <tr>\n",
              "      <th>4</th>\n",
              "      <td>positive</td>\n",
              "      <td>july media bulletin novel coronavirusupdates ...</td>\n",
              "      <td>79</td>\n",
              "    </tr>\n",
              "  </tbody>\n",
              "</table>\n",
              "</div>"
            ],
            "text/plain": [
              "      label                                               text  length\n",
              "0  positive  smelled scent hand sanitizers today someone pa...      78\n",
              "1  positive  hey yankees yankeespr mlb wouldnt made sense p...      68\n",
              "2  positive   wdunlap realdonaldtrump trump never claimed h...      66\n",
              "3  positive  brookbanktv one gift give appreciation simple ...      70\n",
              "4  positive   july media bulletin novel coronavirusupdates ...      79"
            ]
          },
          "metadata": {
            "tags": []
          },
          "execution_count": 33
        }
      ]
    },
    {
      "cell_type": "code",
      "metadata": {
        "trusted": true,
        "id": "4o6oQbf1uKq-"
      },
      "source": [
        "sentence_as_one_string = \" \".join(tweets_df.text)"
      ],
      "execution_count": 34,
      "outputs": []
    },
    {
      "cell_type": "code",
      "metadata": {
        "trusted": true,
        "colab": {
          "base_uri": "https://localhost:8080/",
          "height": 367
        },
        "id": "lXdpeB7euKq-",
        "outputId": "f0ba282e-4897-4045-dfc5-8ccffc7b6cc9"
      },
      "source": [
        "from wordcloud import WordCloud\n",
        "\n",
        "plt.figure(figsize=(30,30))\n",
        "plt.imshow(WordCloud().generate(sentence_as_one_string))"
      ],
      "execution_count": 35,
      "outputs": [
        {
          "output_type": "execute_result",
          "data": {
            "text/plain": [
              "<matplotlib.image.AxesImage at 0x7f517e0c9a90>"
            ]
          },
          "metadata": {
            "tags": []
          },
          "execution_count": 35
        },
        {
          "output_type": "display_data",
          "data": {
            "image/png": "[encoded data removed]",
            "text/plain": [
              "<Figure size 2160x2160 with 1 Axes>"
            ]
          },
          "metadata": {
            "tags": [],
            "needs_background": "light"
          }
        }
      ]
    },
    {
      "cell_type": "code",
      "metadata": {
        "trusted": true,
        "colab": {
          "base_uri": "https://localhost:8080/",
          "height": 367
        },
        "id": "klp5q9dguKq-",
        "outputId": "ecc43f8d-58ba-4b3e-a9f8-0e17909ff89a"
      },
      "source": [
        "# negative wordcloud\n",
        "negative_list=negative.text.tolist()\n",
        "negative_as_one_string = \" \".join(negative_list)\n",
        "\n",
        "plt.figure(figsize=(30,30))\n",
        "plt.imshow(WordCloud().generate(negative_as_one_string))\n"
      ],
      "execution_count": 36,
      "outputs": [
        {
          "output_type": "execute_result",
          "data": {
            "text/plain": [
              "<matplotlib.image.AxesImage at 0x7f517ca9ba10>"
            ]
          },
          "metadata": {
            "tags": []
          },
          "execution_count": 36
        },
        {
          "output_type": "display_data",
          "data": {
            "image/png": "[encoded data removed]",
            "text/plain": [
              "<Figure size 2160x2160 with 1 Axes>"
            ]
          },
          "metadata": {
            "tags": [],
            "needs_background": "light"
          }
        }
      ]
    },
    {
      "cell_type": "markdown",
      "metadata": {
        "id": "m-7VvpZ_uKq_"
      },
      "source": [
        "# Count Vectorization"
      ]
    },
    {
      "cell_type": "code",
      "metadata": {
        "trusted": true,
        "id": "Z3hCYobquKq_"
      },
      "source": [
        "from sklearn.feature_extraction.text import CountVectorizer"
      ],
      "execution_count": 37,
      "outputs": []
    },
    {
      "cell_type": "code",
      "metadata": {
        "trusted": true,
        "id": "1y5Vw8dfuKq_"
      },
      "source": [
        "vectorizer= CountVectorizer()\n",
        "\n",
        "sample_data=tweets_df.text[0:3]\n",
        "X=vectorizer.fit_transform(sample_data)"
      ],
      "execution_count": 38,
      "outputs": []
    },
    {
      "cell_type": "code",
      "metadata": {
        "trusted": true,
        "colab": {
          "base_uri": "https://localhost:8080/"
        },
        "id": "1OC8uAMFuKrA",
        "outputId": "6b6b81a0-36ad-4a5c-9a93-7ec09cfc8fa2"
      },
      "source": [
        "print(vectorizer.get_feature_names())\n",
        "print(X.toarray())"
      ],
      "execution_count": 39,
      "outputs": [
        {
          "output_type": "stream",
          "text": [
            "['claim', 'claimed', 'effort', 'hand', 'hey', 'hoax', 'intoxicated', 'made', 'mlb', 'never', 'past', 'pay', 'players', 'realdonaldtrump', 'respects', 'sanitizers', 'scent', 'sense', 'smelled', 'someone', 'that', 'think', 'to', 'today', 'trump', 'wdunlap', 'would', 'wouldnt', 'yankees', 'yankeespr']\n",
            "[[0 0 0 1 0 0 1 0 0 0 1 0 0 0 0 1 1 0 1 1 1 1 0 1 0 0 1 0 0 0]\n",
            " [0 0 0 0 1 0 0 1 1 0 0 1 1 0 1 0 0 1 0 0 0 0 0 0 0 0 0 1 1 1]\n",
            " [1 1 1 0 0 1 0 0 0 1 0 0 0 1 0 0 0 0 0 0 0 0 1 0 1 1 0 0 0 0]]\n"
          ],
          "name": "stdout"
        }
      ]
    },
    {
      "cell_type": "markdown",
      "metadata": {
        "id": "cgAz0vIquKrA"
      },
      "source": [
        "# Pipeline to remove punc,wtop-words and tokenization and count vectorizer"
      ]
    },
    {
      "cell_type": "code",
      "metadata": {
        "trusted": true,
        "id": "fztd96J8uKrA"
      },
      "source": [
        "def message_cleaning(message):\n",
        "    punc_removed=[char for char in message if char not in string.punctuation]\n",
        "    punc_removed_join=''.join(punc_removed)\n",
        "    punc_removed_join_clean=[word for word in punc_removed_join.split() if word.lower() not in stopwords.words('english')]\n",
        "    return punc_removed_join_clean"
      ],
      "execution_count": 40,
      "outputs": []
    },
    {
      "cell_type": "code",
      "metadata": {
        "trusted": true,
        "id": "r8BxXno5uKrA"
      },
      "source": [
        "tweets_df_clean=tweets_df.text.apply(message_cleaning)"
      ],
      "execution_count": 41,
      "outputs": []
    },
    {
      "cell_type": "code",
      "metadata": {
        "trusted": true,
        "colab": {
          "base_uri": "https://localhost:8080/"
        },
        "id": "hd4RPVdhuKrA",
        "outputId": "4a4de781-38de-4b7b-977d-3d99af232496"
      },
      "source": [
        "print(tweets_df_clean[15])"
      ],
      "execution_count": 43,
      "outputs": [
        {
          "output_type": "stream",
          "text": [
            "['nagaland', 'police', 'awareness', 'city', 'tower', 'junction', 'dimapur', 'keepsocialdistance…']\n"
          ],
          "name": "stdout"
        }
      ]
    },
    {
      "cell_type": "code",
      "metadata": {
        "id": "fRJKzKoWvj6J"
      },
      "source": [
        "vectorizer=CountVectorizer(analyzer=message_cleaning)\n",
        "tweets_countvectorizer=CountVectorizer(analyzer=message_cleaning,dtype='uint8').fit_transform(tweets_df.text).toarray()"
      ],
      "execution_count": 49,
      "outputs": []
    },
    {
      "cell_type": "code",
      "metadata": {
        "colab": {
          "base_uri": "https://localhost:8080/"
        },
        "id": "H2ctxWsQvj8v",
        "outputId": "09465160-9e74-42b9-84d2-1f390cd0583f"
      },
      "source": [
        "tweets_countvectorizer.shape"
      ],
      "execution_count": 50,
      "outputs": [
        {
          "output_type": "execute_result",
          "data": {
            "text/plain": [
              "(10956, 23120)"
            ]
          },
          "metadata": {
            "tags": []
          },
          "execution_count": 50
        }
      ]
    },
    {
      "cell_type": "code",
      "metadata": {
        "id": "yLPMZbqNw6Wb"
      },
      "source": [
        "X=tweets_countvectorizer\n",
        "y=tweets_df.label"
      ],
      "execution_count": 53,
      "outputs": []
    },
    {
      "cell_type": "markdown",
      "metadata": {
        "id": "dP9bIjKl1anJ"
      },
      "source": [
        "# Build a Naive Bayes Classifier"
      ]
    },
    {
      "cell_type": "code",
      "metadata": {
        "id": "T2Zm5lrFw6Z6"
      },
      "source": [
        "from sklearn.model_selection import train_test_split\n",
        "X_train,X_test,y_train,y_test=train_test_split(X,y,test_size=0.1)"
      ],
      "execution_count": 96,
      "outputs": []
    },
    {
      "cell_type": "code",
      "metadata": {
        "colab": {
          "base_uri": "https://localhost:8080/"
        },
        "id": "898TrBnr1ffV",
        "outputId": "14f16223-0e31-4865-abc2-92552f8979ab"
      },
      "source": [
        "from sklearn.naive_bayes import MultinomialNB\n",
        "NB_classifier=MultinomialNB()\n",
        "NB_classifier.fit(X_train,y_train)"
      ],
      "execution_count": 97,
      "outputs": [
        {
          "output_type": "execute_result",
          "data": {
            "text/plain": [
              "MultinomialNB(alpha=1.0, class_prior=None, fit_prior=True)"
            ]
          },
          "metadata": {
            "tags": []
          },
          "execution_count": 97
        }
      ]
    },
    {
      "cell_type": "markdown",
      "metadata": {
        "id": "S0QpyQh-2N5e"
      },
      "source": [
        "# NB Performance"
      ]
    },
    {
      "cell_type": "code",
      "metadata": {
        "id": "vB5oXta_2Qh3"
      },
      "source": [
        "from sklearn.metrics import classification_report,confusion_matrix"
      ],
      "execution_count": 98,
      "outputs": []
    },
    {
      "cell_type": "code",
      "metadata": {
        "colab": {
          "base_uri": "https://localhost:8080/",
          "height": 317
        },
        "id": "p90sjw752Qkf",
        "outputId": "05179519-6c75-4985-86f2-fbf7d8a49d0e"
      },
      "source": [
        "labels = ['negative', 'neutral','positive']\n",
        "y_predict_test=NB_classifier.predict(X_test)\n",
        "cm=confusion_matrix(y_test,y_predict_test,labels)\n",
        "sns.heatmap(cm,annot=True)\n",
        "print(cm)"
      ],
      "execution_count": 99,
      "outputs": [
        {
          "output_type": "stream",
          "text": [
            "[[206  22  63]\n",
            " [ 53 242  80]\n",
            " [ 48  27 355]]\n"
          ],
          "name": "stdout"
        },
        {
          "output_type": "display_data",
          "data": {
            "image/png": "[encoded data removed]",
            "text/plain": [
              "<Figure size 432x288 with 2 Axes>"
            ]
          },
          "metadata": {
            "tags": [],
            "needs_background": "light"
          }
        }
      ]
    },
    {
      "cell_type": "code",
      "metadata": {
        "colab": {
          "base_uri": "https://localhost:8080/"
        },
        "id": "Qp1LO_ER3TpV",
        "outputId": "9a917495-349b-4cb7-e6b8-9746f369451b"
      },
      "source": [
        "import collections\n",
        "collections.Counter(y_test)"
      ],
      "execution_count": 100,
      "outputs": [
        {
          "output_type": "execute_result",
          "data": {
            "text/plain": [
              "Counter({'negative': 291, 'neutral': 375, 'positive': 430})"
            ]
          },
          "metadata": {
            "tags": []
          },
          "execution_count": 100
        }
      ]
    },
    {
      "cell_type": "code",
      "metadata": {
        "colab": {
          "base_uri": "https://localhost:8080/"
        },
        "id": "V6qhO9j_46cs",
        "outputId": "06005e12-3c49-473c-e696-8a89d3544141"
      },
      "source": [
        "print(classification_report(y_test,y_predict_test))"
      ],
      "execution_count": 101,
      "outputs": [
        {
          "output_type": "stream",
          "text": [
            "              precision    recall  f1-score   support\n",
            "\n",
            "    negative       0.67      0.71      0.69       291\n",
            "     neutral       0.83      0.65      0.73       375\n",
            "    positive       0.71      0.83      0.77       430\n",
            "\n",
            "    accuracy                           0.73      1096\n",
            "   macro avg       0.74      0.73      0.73      1096\n",
            "weighted avg       0.74      0.73      0.73      1096\n",
            "\n"
          ],
          "name": "stdout"
        }
      ]
    },
    {
      "cell_type": "markdown",
      "metadata": {
        "id": "l_0rIY4euKrB"
      },
      "source": [
        "### group number of counts by\n",
        "<li>date\n",
        "<li>positive,neutral,negative"
      ]
    },
    {
      "cell_type": "code",
      "metadata": {
        "trusted": true,
        "colab": {
          "base_uri": "https://localhost:8080/",
          "height": 191
        },
        "id": "AQjY407MuKrB",
        "outputId": "ef93db9b-f634-4d38-d61c-2c80c5b511a2"
      },
      "source": [
        "data_agg=data[['user_name','date','label']]\n",
        "display(data_agg.head(5))"
      ],
      "execution_count": 102,
      "outputs": [
        {
          "output_type": "display_data",
          "data": {
            "text/html": [
              "<div>\n",
              "<style scoped>\n",
              "    .dataframe tbody tr th:only-of-type {\n",
              "        vertical-align: middle;\n",
              "    }\n",
              "\n",
              "    .dataframe tbody tr th {\n",
              "        vertical-align: top;\n",
              "    }\n",
              "\n",
              "    .dataframe thead th {\n",
              "        text-align: right;\n",
              "    }\n",
              "</style>\n",
              "<table border=\"1\" class=\"dataframe\">\n",
              "  <thead>\n",
              "    <tr style=\"text-align: right;\">\n",
              "      <th></th>\n",
              "      <th>user_name</th>\n",
              "      <th>date</th>\n",
              "      <th>label</th>\n",
              "    </tr>\n",
              "  </thead>\n",
              "  <tbody>\n",
              "    <tr>\n",
              "      <th>0</th>\n",
              "      <td>7683</td>\n",
              "      <td>2020-07-25</td>\n",
              "      <td>positive</td>\n",
              "    </tr>\n",
              "    <tr>\n",
              "      <th>1</th>\n",
              "      <td>6554</td>\n",
              "      <td>2020-07-25</td>\n",
              "      <td>positive</td>\n",
              "    </tr>\n",
              "    <tr>\n",
              "      <th>2</th>\n",
              "      <td>6531</td>\n",
              "      <td>2020-07-25</td>\n",
              "      <td>positive</td>\n",
              "    </tr>\n",
              "    <tr>\n",
              "      <th>3</th>\n",
              "      <td>7246</td>\n",
              "      <td>2020-07-25</td>\n",
              "      <td>positive</td>\n",
              "    </tr>\n",
              "    <tr>\n",
              "      <th>4</th>\n",
              "      <td>1504</td>\n",
              "      <td>2020-07-25</td>\n",
              "      <td>positive</td>\n",
              "    </tr>\n",
              "  </tbody>\n",
              "</table>\n",
              "</div>"
            ],
            "text/plain": [
              "   user_name        date     label\n",
              "0       7683  2020-07-25  positive\n",
              "1       6554  2020-07-25  positive\n",
              "2       6531  2020-07-25  positive\n",
              "3       7246  2020-07-25  positive\n",
              "4       1504  2020-07-25  positive"
            ]
          },
          "metadata": {
            "tags": []
          }
        }
      ]
    },
    {
      "cell_type": "code",
      "metadata": {
        "trusted": true,
        "colab": {
          "base_uri": "https://localhost:8080/",
          "height": 507
        },
        "id": "WeHPPAhQuKrB",
        "outputId": "8a8ffb12-5616-46f9-9506-24558cf8be4b"
      },
      "source": [
        "data_agg=data_agg.groupby(['date','label'])\n",
        "display(data_agg.head(5))"
      ],
      "execution_count": 103,
      "outputs": [
        {
          "output_type": "display_data",
          "data": {
            "text/html": [
              "<div>\n",
              "<style scoped>\n",
              "    .dataframe tbody tr th:only-of-type {\n",
              "        vertical-align: middle;\n",
              "    }\n",
              "\n",
              "    .dataframe tbody tr th {\n",
              "        vertical-align: top;\n",
              "    }\n",
              "\n",
              "    .dataframe thead th {\n",
              "        text-align: right;\n",
              "    }\n",
              "</style>\n",
              "<table border=\"1\" class=\"dataframe\">\n",
              "  <thead>\n",
              "    <tr style=\"text-align: right;\">\n",
              "      <th></th>\n",
              "      <th>user_name</th>\n",
              "      <th>date</th>\n",
              "      <th>label</th>\n",
              "    </tr>\n",
              "  </thead>\n",
              "  <tbody>\n",
              "    <tr>\n",
              "      <th>0</th>\n",
              "      <td>7683</td>\n",
              "      <td>2020-07-25</td>\n",
              "      <td>positive</td>\n",
              "    </tr>\n",
              "    <tr>\n",
              "      <th>1</th>\n",
              "      <td>6554</td>\n",
              "      <td>2020-07-25</td>\n",
              "      <td>positive</td>\n",
              "    </tr>\n",
              "    <tr>\n",
              "      <th>2</th>\n",
              "      <td>6531</td>\n",
              "      <td>2020-07-25</td>\n",
              "      <td>positive</td>\n",
              "    </tr>\n",
              "    <tr>\n",
              "      <th>3</th>\n",
              "      <td>7246</td>\n",
              "      <td>2020-07-25</td>\n",
              "      <td>positive</td>\n",
              "    </tr>\n",
              "    <tr>\n",
              "      <th>4</th>\n",
              "      <td>1504</td>\n",
              "      <td>2020-07-25</td>\n",
              "      <td>positive</td>\n",
              "    </tr>\n",
              "    <tr>\n",
              "      <th>5</th>\n",
              "      <td>7819</td>\n",
              "      <td>2020-07-25</td>\n",
              "      <td>negative</td>\n",
              "    </tr>\n",
              "    <tr>\n",
              "      <th>6</th>\n",
              "      <td>7278</td>\n",
              "      <td>2020-07-25</td>\n",
              "      <td>neutral</td>\n",
              "    </tr>\n",
              "    <tr>\n",
              "      <th>7</th>\n",
              "      <td>1705</td>\n",
              "      <td>2020-07-25</td>\n",
              "      <td>neutral</td>\n",
              "    </tr>\n",
              "    <tr>\n",
              "      <th>10</th>\n",
              "      <td>6852</td>\n",
              "      <td>2020-07-25</td>\n",
              "      <td>negative</td>\n",
              "    </tr>\n",
              "    <tr>\n",
              "      <th>11</th>\n",
              "      <td>1450</td>\n",
              "      <td>2020-07-25</td>\n",
              "      <td>neutral</td>\n",
              "    </tr>\n",
              "    <tr>\n",
              "      <th>14</th>\n",
              "      <td>1540</td>\n",
              "      <td>2020-07-25</td>\n",
              "      <td>neutral</td>\n",
              "    </tr>\n",
              "    <tr>\n",
              "      <th>15</th>\n",
              "      <td>1757</td>\n",
              "      <td>2020-07-25</td>\n",
              "      <td>neutral</td>\n",
              "    </tr>\n",
              "    <tr>\n",
              "      <th>18</th>\n",
              "      <td>1821</td>\n",
              "      <td>2020-07-25</td>\n",
              "      <td>negative</td>\n",
              "    </tr>\n",
              "    <tr>\n",
              "      <th>22</th>\n",
              "      <td>4146</td>\n",
              "      <td>2020-07-25</td>\n",
              "      <td>negative</td>\n",
              "    </tr>\n",
              "    <tr>\n",
              "      <th>27</th>\n",
              "      <td>7132</td>\n",
              "      <td>2020-07-25</td>\n",
              "      <td>negative</td>\n",
              "    </tr>\n",
              "    <tr>\n",
              "      <th>10955</th>\n",
              "      <td>4564</td>\n",
              "      <td>NaT</td>\n",
              "      <td>neutral</td>\n",
              "    </tr>\n",
              "  </tbody>\n",
              "</table>\n",
              "</div>"
            ],
            "text/plain": [
              "       user_name        date     label\n",
              "0           7683  2020-07-25  positive\n",
              "1           6554  2020-07-25  positive\n",
              "2           6531  2020-07-25  positive\n",
              "3           7246  2020-07-25  positive\n",
              "4           1504  2020-07-25  positive\n",
              "5           7819  2020-07-25  negative\n",
              "6           7278  2020-07-25   neutral\n",
              "7           1705  2020-07-25   neutral\n",
              "10          6852  2020-07-25  negative\n",
              "11          1450  2020-07-25   neutral\n",
              "14          1540  2020-07-25   neutral\n",
              "15          1757  2020-07-25   neutral\n",
              "18          1821  2020-07-25  negative\n",
              "22          4146  2020-07-25  negative\n",
              "27          7132  2020-07-25  negative\n",
              "10955       4564         NaT   neutral"
            ]
          },
          "metadata": {
            "tags": []
          }
        }
      ]
    },
    {
      "cell_type": "code",
      "metadata": {
        "trusted": true,
        "colab": {
          "base_uri": "https://localhost:8080/",
          "height": 162
        },
        "id": "jOAzrucPuKrB",
        "outputId": "75514388-240d-4e57-efe7-6e8e79be121f"
      },
      "source": [
        "data_agg=data_agg.count()\n",
        "display(data_agg.head(5))"
      ],
      "execution_count": 104,
      "outputs": [
        {
          "output_type": "display_data",
          "data": {
            "text/html": [
              "<div>\n",
              "<style scoped>\n",
              "    .dataframe tbody tr th:only-of-type {\n",
              "        vertical-align: middle;\n",
              "    }\n",
              "\n",
              "    .dataframe tbody tr th {\n",
              "        vertical-align: top;\n",
              "    }\n",
              "\n",
              "    .dataframe thead th {\n",
              "        text-align: right;\n",
              "    }\n",
              "</style>\n",
              "<table border=\"1\" class=\"dataframe\">\n",
              "  <thead>\n",
              "    <tr style=\"text-align: right;\">\n",
              "      <th></th>\n",
              "      <th></th>\n",
              "      <th>user_name</th>\n",
              "    </tr>\n",
              "    <tr>\n",
              "      <th>date</th>\n",
              "      <th>label</th>\n",
              "      <th></th>\n",
              "    </tr>\n",
              "  </thead>\n",
              "  <tbody>\n",
              "    <tr>\n",
              "      <th rowspan=\"3\" valign=\"top\">2020-07-25</th>\n",
              "      <th>negative</th>\n",
              "      <td>2668</td>\n",
              "    </tr>\n",
              "    <tr>\n",
              "      <th>neutral</th>\n",
              "      <td>3824</td>\n",
              "    </tr>\n",
              "    <tr>\n",
              "      <th>positive</th>\n",
              "      <td>4463</td>\n",
              "    </tr>\n",
              "  </tbody>\n",
              "</table>\n",
              "</div>"
            ],
            "text/plain": [
              "                     user_name\n",
              "date       label              \n",
              "2020-07-25 negative       2668\n",
              "           neutral        3824\n",
              "           positive       4463"
            ]
          },
          "metadata": {
            "tags": []
          }
        }
      ]
    },
    {
      "cell_type": "code",
      "metadata": {
        "trusted": true,
        "colab": {
          "base_uri": "https://localhost:8080/",
          "height": 133
        },
        "id": "sCmWIb1KuKrB",
        "outputId": "49b60b3e-cd08-4f97-c44a-c9195cb0c740"
      },
      "source": [
        "data_agg=data_agg.reset_index()\n",
        "display(data_agg.head(5))"
      ],
      "execution_count": 105,
      "outputs": [
        {
          "output_type": "display_data",
          "data": {
            "text/html": [
              "<div>\n",
              "<style scoped>\n",
              "    .dataframe tbody tr th:only-of-type {\n",
              "        vertical-align: middle;\n",
              "    }\n",
              "\n",
              "    .dataframe tbody tr th {\n",
              "        vertical-align: top;\n",
              "    }\n",
              "\n",
              "    .dataframe thead th {\n",
              "        text-align: right;\n",
              "    }\n",
              "</style>\n",
              "<table border=\"1\" class=\"dataframe\">\n",
              "  <thead>\n",
              "    <tr style=\"text-align: right;\">\n",
              "      <th></th>\n",
              "      <th>date</th>\n",
              "      <th>label</th>\n",
              "      <th>user_name</th>\n",
              "    </tr>\n",
              "  </thead>\n",
              "  <tbody>\n",
              "    <tr>\n",
              "      <th>0</th>\n",
              "      <td>2020-07-25</td>\n",
              "      <td>negative</td>\n",
              "      <td>2668</td>\n",
              "    </tr>\n",
              "    <tr>\n",
              "      <th>1</th>\n",
              "      <td>2020-07-25</td>\n",
              "      <td>neutral</td>\n",
              "      <td>3824</td>\n",
              "    </tr>\n",
              "    <tr>\n",
              "      <th>2</th>\n",
              "      <td>2020-07-25</td>\n",
              "      <td>positive</td>\n",
              "      <td>4463</td>\n",
              "    </tr>\n",
              "  </tbody>\n",
              "</table>\n",
              "</div>"
            ],
            "text/plain": [
              "         date     label  user_name\n",
              "0  2020-07-25  negative       2668\n",
              "1  2020-07-25   neutral       3824\n",
              "2  2020-07-25  positive       4463"
            ]
          },
          "metadata": {
            "tags": []
          }
        }
      ]
    },
    {
      "cell_type": "markdown",
      "metadata": {
        "id": "4Tx3FhoAuKrB"
      },
      "source": [
        "### actually the 'user_name' is the count of users, so need to change the column name"
      ]
    },
    {
      "cell_type": "code",
      "metadata": {
        "trusted": true,
        "colab": {
          "base_uri": "https://localhost:8080/",
          "height": 133
        },
        "id": "104pPNJIuKrC",
        "outputId": "479e9659-221f-44ab-8a53-b405c0c8710b"
      },
      "source": [
        "data_agg.columns=['date','label','counts']\n",
        "display(data_agg.head())"
      ],
      "execution_count": 106,
      "outputs": [
        {
          "output_type": "display_data",
          "data": {
            "text/html": [
              "<div>\n",
              "<style scoped>\n",
              "    .dataframe tbody tr th:only-of-type {\n",
              "        vertical-align: middle;\n",
              "    }\n",
              "\n",
              "    .dataframe tbody tr th {\n",
              "        vertical-align: top;\n",
              "    }\n",
              "\n",
              "    .dataframe thead th {\n",
              "        text-align: right;\n",
              "    }\n",
              "</style>\n",
              "<table border=\"1\" class=\"dataframe\">\n",
              "  <thead>\n",
              "    <tr style=\"text-align: right;\">\n",
              "      <th></th>\n",
              "      <th>date</th>\n",
              "      <th>label</th>\n",
              "      <th>counts</th>\n",
              "    </tr>\n",
              "  </thead>\n",
              "  <tbody>\n",
              "    <tr>\n",
              "      <th>0</th>\n",
              "      <td>2020-07-25</td>\n",
              "      <td>negative</td>\n",
              "      <td>2668</td>\n",
              "    </tr>\n",
              "    <tr>\n",
              "      <th>1</th>\n",
              "      <td>2020-07-25</td>\n",
              "      <td>neutral</td>\n",
              "      <td>3824</td>\n",
              "    </tr>\n",
              "    <tr>\n",
              "      <th>2</th>\n",
              "      <td>2020-07-25</td>\n",
              "      <td>positive</td>\n",
              "      <td>4463</td>\n",
              "    </tr>\n",
              "  </tbody>\n",
              "</table>\n",
              "</div>"
            ],
            "text/plain": [
              "         date     label  counts\n",
              "0  2020-07-25  negative    2668\n",
              "1  2020-07-25   neutral    3824\n",
              "2  2020-07-25  positive    4463"
            ]
          },
          "metadata": {
            "tags": []
          }
        }
      ]
    },
    {
      "cell_type": "code",
      "metadata": {
        "trusted": true,
        "colab": {
          "base_uri": "https://localhost:8080/",
          "height": 542
        },
        "id": "cyhMCD7XuKrC",
        "outputId": "ce163974-9700-4df9-c485-e45e3884f70c"
      },
      "source": [
        "px.line(data_agg,x='date',y='counts',color='label',\n",
        "       title='Daily Tweet Sentimental Analysis')"
      ],
      "execution_count": 107,
      "outputs": [
        {
          "output_type": "display_data",
          "data": {
            "text/html": [
              "<html>\n",
              "<head><meta charset=\"utf-8\" /></head>\n",
              "<body>\n",
              "    <div>\n",
              "            <script src=\"https://cdnjs.cloudflare.com/ajax/libs/mathjax/2.7.5/MathJax.js?config=TeX-AMS-MML_SVG\"></script><script type=\"text/javascript\">if (window.MathJax) {MathJax.Hub.Config({SVG: {font: \"STIX-Web\"}});}</script>\n",
              "                <script type=\"text/javascript\">window.PlotlyConfig = {MathJaxConfig: 'local'};</script>\n",
              "        <script src=\"https://cdn.plot.ly/plotly-latest.min.js\"></script>    \n",
              "            <div id=\"08d8b76a-d9d3-4661-8ecc-95c50c059b0f\" class=\"plotly-graph-div\" style=\"height:525px; width:100%;\"></div>\n",
              "            <script type=\"text/javascript\">\n",
              "                \n",
              "                    window.PLOTLYENV=window.PLOTLYENV || {};\n",
              "                    \n",
              "                if (document.getElementById(\"08d8b76a-d9d3-4661-8ecc-95c50c059b0f\")) {\n",
              "                    Plotly.newPlot(\n",
              "                        '08d8b76a-d9d3-4661-8ecc-95c50c059b0f',\n",
              "                        [{\"hoverlabel\": {\"namelength\": 0}, \"hovertemplate\": \"label=negative<br>date=%{x}<br>counts=%{y}\", \"legendgroup\": \"label=negative\", \"line\": {\"color\": \"#636efa\", \"dash\": \"solid\"}, \"mode\": \"lines\", \"name\": \"label=negative\", \"showlegend\": true, \"type\": \"scatter\", \"x\": [\"2020-07-25\"], \"xaxis\": \"x\", \"y\": [2668], \"yaxis\": \"y\"}, {\"hoverlabel\": {\"namelength\": 0}, \"hovertemplate\": \"label=neutral<br>date=%{x}<br>counts=%{y}\", \"legendgroup\": \"label=neutral\", \"line\": {\"color\": \"#EF553B\", \"dash\": \"solid\"}, \"mode\": \"lines\", \"name\": \"label=neutral\", \"showlegend\": true, \"type\": \"scatter\", \"x\": [\"2020-07-25\"], \"xaxis\": \"x\", \"y\": [3824], \"yaxis\": \"y\"}, {\"hoverlabel\": {\"namelength\": 0}, \"hovertemplate\": \"label=positive<br>date=%{x}<br>counts=%{y}\", \"legendgroup\": \"label=positive\", \"line\": {\"color\": \"#00cc96\", \"dash\": \"solid\"}, \"mode\": \"lines\", \"name\": \"label=positive\", \"showlegend\": true, \"type\": \"scatter\", \"x\": [\"2020-07-25\"], \"xaxis\": \"x\", \"y\": [4463], \"yaxis\": \"y\"}],\n",
              "                        {\"legend\": {\"tracegroupgap\": 0}, \"template\": {\"data\": {\"bar\": [{\"error_x\": {\"color\": \"#2a3f5f\"}, \"error_y\": {\"color\": \"#2a3f5f\"}, \"marker\": {\"line\": {\"color\": \"#E5ECF6\", \"width\": 0.5}}, \"type\": \"bar\"}], \"barpolar\": [{\"marker\": {\"line\": {\"color\": \"#E5ECF6\", \"width\": 0.5}}, \"type\": \"barpolar\"}], \"carpet\": [{\"aaxis\": {\"endlinecolor\": \"#2a3f5f\", \"gridcolor\": \"white\", \"linecolor\": \"white\", \"minorgridcolor\": \"white\", \"startlinecolor\": \"#2a3f5f\"}, \"baxis\": {\"endlinecolor\": \"#2a3f5f\", \"gridcolor\": \"white\", \"linecolor\": \"white\", \"minorgridcolor\": \"white\", \"startlinecolor\": \"#2a3f5f\"}, \"type\": \"carpet\"}], \"choropleth\": [{\"colorbar\": {\"outlinewidth\": 0, \"ticks\": \"\"}, \"type\": \"choropleth\"}], \"contour\": [{\"colorbar\": {\"outlinewidth\": 0, \"ticks\": \"\"}, \"colorscale\": [[0.0, \"#0d0887\"], [0.1111111111111111, \"#46039f\"], [0.2222222222222222, \"#7201a8\"], [0.3333333333333333, \"#9c179e\"], [0.4444444444444444, \"#bd3786\"], [0.5555555555555556, \"#d8576b\"], [0.6666666666666666, \"#ed7953\"], [0.7777777777777778, \"#fb9f3a\"], [0.8888888888888888, \"#fdca26\"], [1.0, \"#f0f921\"]], \"type\": \"contour\"}], \"contourcarpet\": [{\"colorbar\": {\"outlinewidth\": 0, \"ticks\": \"\"}, \"type\": \"contourcarpet\"}], \"heatmap\": [{\"colorbar\": {\"outlinewidth\": 0, \"ticks\": \"\"}, \"colorscale\": [[0.0, \"#0d0887\"], [0.1111111111111111, \"#46039f\"], [0.2222222222222222, \"#7201a8\"], [0.3333333333333333, \"#9c179e\"], [0.4444444444444444, \"#bd3786\"], [0.5555555555555556, \"#d8576b\"], [0.6666666666666666, \"#ed7953\"], [0.7777777777777778, \"#fb9f3a\"], [0.8888888888888888, \"#fdca26\"], [1.0, \"#f0f921\"]], \"type\": \"heatmap\"}], \"heatmapgl\": [{\"colorbar\": {\"outlinewidth\": 0, \"ticks\": \"\"}, \"colorscale\": [[0.0, \"#0d0887\"], [0.1111111111111111, \"#46039f\"], [0.2222222222222222, \"#7201a8\"], [0.3333333333333333, \"#9c179e\"], [0.4444444444444444, \"#bd3786\"], [0.5555555555555556, \"#d8576b\"], [0.6666666666666666, \"#ed7953\"], [0.7777777777777778, \"#fb9f3a\"], [0.8888888888888888, \"#fdca26\"], [1.0, \"#f0f921\"]], \"type\": \"heatmapgl\"}], \"histogram\": [{\"marker\": {\"colorbar\": {\"outlinewidth\": 0, \"ticks\": \"\"}}, \"type\": \"histogram\"}], \"histogram2d\": [{\"colorbar\": {\"outlinewidth\": 0, \"ticks\": \"\"}, \"colorscale\": [[0.0, \"#0d0887\"], [0.1111111111111111, \"#46039f\"], [0.2222222222222222, \"#7201a8\"], [0.3333333333333333, \"#9c179e\"], [0.4444444444444444, \"#bd3786\"], [0.5555555555555556, \"#d8576b\"], [0.6666666666666666, \"#ed7953\"], [0.7777777777777778, \"#fb9f3a\"], [0.8888888888888888, \"#fdca26\"], [1.0, \"#f0f921\"]], \"type\": \"histogram2d\"}], \"histogram2dcontour\": [{\"colorbar\": {\"outlinewidth\": 0, \"ticks\": \"\"}, \"colorscale\": [[0.0, \"#0d0887\"], [0.1111111111111111, \"#46039f\"], [0.2222222222222222, \"#7201a8\"], [0.3333333333333333, \"#9c179e\"], [0.4444444444444444, \"#bd3786\"], [0.5555555555555556, \"#d8576b\"], [0.6666666666666666, \"#ed7953\"], [0.7777777777777778, \"#fb9f3a\"], [0.8888888888888888, \"#fdca26\"], [1.0, \"#f0f921\"]], \"type\": \"histogram2dcontour\"}], \"mesh3d\": [{\"colorbar\": {\"outlinewidth\": 0, \"ticks\": \"\"}, \"type\": \"mesh3d\"}], \"parcoords\": [{\"line\": {\"colorbar\": {\"outlinewidth\": 0, \"ticks\": \"\"}}, \"type\": \"parcoords\"}], \"pie\": [{\"automargin\": true, \"type\": \"pie\"}], \"scatter\": [{\"marker\": {\"colorbar\": {\"outlinewidth\": 0, \"ticks\": \"\"}}, \"type\": \"scatter\"}], \"scatter3d\": [{\"line\": {\"colorbar\": {\"outlinewidth\": 0, \"ticks\": \"\"}}, \"marker\": {\"colorbar\": {\"outlinewidth\": 0, \"ticks\": \"\"}}, \"type\": \"scatter3d\"}], \"scattercarpet\": [{\"marker\": {\"colorbar\": {\"outlinewidth\": 0, \"ticks\": \"\"}}, \"type\": \"scattercarpet\"}], \"scattergeo\": [{\"marker\": {\"colorbar\": {\"outlinewidth\": 0, \"ticks\": \"\"}}, \"type\": \"scattergeo\"}], \"scattergl\": [{\"marker\": {\"colorbar\": {\"outlinewidth\": 0, \"ticks\": \"\"}}, \"type\": \"scattergl\"}], \"scattermapbox\": [{\"marker\": {\"colorbar\": {\"outlinewidth\": 0, \"ticks\": \"\"}}, \"type\": \"scattermapbox\"}], \"scatterpolar\": [{\"marker\": {\"colorbar\": {\"outlinewidth\": 0, \"ticks\": \"\"}}, \"type\": \"scatterpolar\"}], \"scatterpolargl\": [{\"marker\": {\"colorbar\": {\"outlinewidth\": 0, \"ticks\": \"\"}}, \"type\": \"scatterpolargl\"}], \"scatterternary\": [{\"marker\": {\"colorbar\": {\"outlinewidth\": 0, \"ticks\": \"\"}}, \"type\": \"scatterternary\"}], \"surface\": [{\"colorbar\": {\"outlinewidth\": 0, \"ticks\": \"\"}, \"colorscale\": [[0.0, \"#0d0887\"], [0.1111111111111111, \"#46039f\"], [0.2222222222222222, \"#7201a8\"], [0.3333333333333333, \"#9c179e\"], [0.4444444444444444, \"#bd3786\"], [0.5555555555555556, \"#d8576b\"], [0.6666666666666666, \"#ed7953\"], [0.7777777777777778, \"#fb9f3a\"], [0.8888888888888888, \"#fdca26\"], [1.0, \"#f0f921\"]], \"type\": \"surface\"}], \"table\": [{\"cells\": {\"fill\": {\"color\": \"#EBF0F8\"}, \"line\": {\"color\": \"white\"}}, \"header\": {\"fill\": {\"color\": \"#C8D4E3\"}, \"line\": {\"color\": \"white\"}}, \"type\": \"table\"}]}, \"layout\": {\"annotationdefaults\": {\"arrowcolor\": \"#2a3f5f\", \"arrowhead\": 0, \"arrowwidth\": 1}, \"coloraxis\": {\"colorbar\": {\"outlinewidth\": 0, \"ticks\": \"\"}}, \"colorscale\": {\"diverging\": [[0, \"#8e0152\"], [0.1, \"#c51b7d\"], [0.2, \"#de77ae\"], [0.3, \"#f1b6da\"], [0.4, \"#fde0ef\"], [0.5, \"#f7f7f7\"], [0.6, \"#e6f5d0\"], [0.7, \"#b8e186\"], [0.8, \"#7fbc41\"], [0.9, \"#4d9221\"], [1, \"#276419\"]], \"sequential\": [[0.0, \"#0d0887\"], [0.1111111111111111, \"#46039f\"], [0.2222222222222222, \"#7201a8\"], [0.3333333333333333, \"#9c179e\"], [0.4444444444444444, \"#bd3786\"], [0.5555555555555556, \"#d8576b\"], [0.6666666666666666, \"#ed7953\"], [0.7777777777777778, \"#fb9f3a\"], [0.8888888888888888, \"#fdca26\"], [1.0, \"#f0f921\"]], \"sequentialminus\": [[0.0, \"#0d0887\"], [0.1111111111111111, \"#46039f\"], [0.2222222222222222, \"#7201a8\"], [0.3333333333333333, \"#9c179e\"], [0.4444444444444444, \"#bd3786\"], [0.5555555555555556, \"#d8576b\"], [0.6666666666666666, \"#ed7953\"], [0.7777777777777778, \"#fb9f3a\"], [0.8888888888888888, \"#fdca26\"], [1.0, \"#f0f921\"]]}, \"colorway\": [\"#636efa\", \"#EF553B\", \"#00cc96\", \"#ab63fa\", \"#FFA15A\", \"#19d3f3\", \"#FF6692\", \"#B6E880\", \"#FF97FF\", \"#FECB52\"], \"font\": {\"color\": \"#2a3f5f\"}, \"geo\": {\"bgcolor\": \"white\", \"lakecolor\": \"white\", \"landcolor\": \"#E5ECF6\", \"showlakes\": true, \"showland\": true, \"subunitcolor\": \"white\"}, \"hoverlabel\": {\"align\": \"left\"}, \"hovermode\": \"closest\", \"mapbox\": {\"style\": \"light\"}, \"paper_bgcolor\": \"white\", \"plot_bgcolor\": \"#E5ECF6\", \"polar\": {\"angularaxis\": {\"gridcolor\": \"white\", \"linecolor\": \"white\", \"ticks\": \"\"}, \"bgcolor\": \"#E5ECF6\", \"radialaxis\": {\"gridcolor\": \"white\", \"linecolor\": \"white\", \"ticks\": \"\"}}, \"scene\": {\"xaxis\": {\"backgroundcolor\": \"#E5ECF6\", \"gridcolor\": \"white\", \"gridwidth\": 2, \"linecolor\": \"white\", \"showbackground\": true, \"ticks\": \"\", \"zerolinecolor\": \"white\"}, \"yaxis\": {\"backgroundcolor\": \"#E5ECF6\", \"gridcolor\": \"white\", \"gridwidth\": 2, \"linecolor\": \"white\", \"showbackground\": true, \"ticks\": \"\", \"zerolinecolor\": \"white\"}, \"zaxis\": {\"backgroundcolor\": \"#E5ECF6\", \"gridcolor\": \"white\", \"gridwidth\": 2, \"linecolor\": \"white\", \"showbackground\": true, \"ticks\": \"\", \"zerolinecolor\": \"white\"}}, \"shapedefaults\": {\"line\": {\"color\": \"#2a3f5f\"}}, \"ternary\": {\"aaxis\": {\"gridcolor\": \"white\", \"linecolor\": \"white\", \"ticks\": \"\"}, \"baxis\": {\"gridcolor\": \"white\", \"linecolor\": \"white\", \"ticks\": \"\"}, \"bgcolor\": \"#E5ECF6\", \"caxis\": {\"gridcolor\": \"white\", \"linecolor\": \"white\", \"ticks\": \"\"}}, \"title\": {\"x\": 0.05}, \"xaxis\": {\"automargin\": true, \"gridcolor\": \"white\", \"linecolor\": \"white\", \"ticks\": \"\", \"title\": {\"standoff\": 15}, \"zerolinecolor\": \"white\", \"zerolinewidth\": 2}, \"yaxis\": {\"automargin\": true, \"gridcolor\": \"white\", \"linecolor\": \"white\", \"ticks\": \"\", \"title\": {\"standoff\": 15}, \"zerolinecolor\": \"white\", \"zerolinewidth\": 2}}}, \"title\": {\"text\": \"Daily Tweet Sentimental Analysis\"}, \"xaxis\": {\"anchor\": \"y\", \"domain\": [0.0, 1.0], \"title\": {\"text\": \"date\"}}, \"yaxis\": {\"anchor\": \"x\", \"domain\": [0.0, 1.0], \"title\": {\"text\": \"counts\"}}},\n",
              "                        {\"responsive\": true}\n",
              "                    ).then(function(){\n",
              "                            \n",
              "var gd = document.getElementById('08d8b76a-d9d3-4661-8ecc-95c50c059b0f');\n",
              "var x = new MutationObserver(function (mutations, observer) {{\n",
              "        var display = window.getComputedStyle(gd).display;\n",
              "        if (!display || display === 'none') {{\n",
              "            console.log([gd, 'removed!']);\n",
              "            Plotly.purge(gd);\n",
              "            observer.disconnect();\n",
              "        }}\n",
              "}});\n",
              "\n",
              "// Listen for the removal of the full notebook cells\n",
              "var notebookContainer = gd.closest('#notebook-container');\n",
              "if (notebookContainer) {{\n",
              "    x.observe(notebookContainer, {childList: true});\n",
              "}}\n",
              "\n",
              "// Listen for the clearing of the current output cell\n",
              "var outputEl = gd.closest('.output');\n",
              "if (outputEl) {{\n",
              "    x.observe(outputEl, {childList: true});\n",
              "}}\n",
              "\n",
              "                        })\n",
              "                };\n",
              "                \n",
              "            </script>\n",
              "        </div>\n",
              "</body>\n",
              "</html>"
            ]
          },
          "metadata": {
            "tags": []
          }
        }
      ]
    },
    {
      "cell_type": "code",
      "metadata": {
        "trusted": true,
        "colab": {
          "base_uri": "https://localhost:8080/",
          "height": 391
        },
        "id": "1GxwI9wfuKrC",
        "outputId": "53c2403e-81dc-4253-a39f-792123fd3bb9"
      },
      "source": [
        "df['text']=df['text'].apply(lambda x: remove_emoji(x))\n",
        "display(df)"
      ],
      "execution_count": 108,
      "outputs": [
        {
          "output_type": "display_data",
          "data": {
            "text/html": [
              "<div>\n",
              "<style scoped>\n",
              "    .dataframe tbody tr th:only-of-type {\n",
              "        vertical-align: middle;\n",
              "    }\n",
              "\n",
              "    .dataframe tbody tr th {\n",
              "        vertical-align: top;\n",
              "    }\n",
              "\n",
              "    .dataframe thead th {\n",
              "        text-align: right;\n",
              "    }\n",
              "</style>\n",
              "<table border=\"1\" class=\"dataframe\">\n",
              "  <thead>\n",
              "    <tr style=\"text-align: right;\">\n",
              "      <th></th>\n",
              "      <th>user_name</th>\n",
              "      <th>date</th>\n",
              "      <th>text</th>\n",
              "    </tr>\n",
              "  </thead>\n",
              "  <tbody>\n",
              "    <tr>\n",
              "      <th>0</th>\n",
              "      <td>7683</td>\n",
              "      <td>2020-07-25</td>\n",
              "      <td>smelled scent hand sanitizers today someone pa...</td>\n",
              "    </tr>\n",
              "    <tr>\n",
              "      <th>1</th>\n",
              "      <td>6554</td>\n",
              "      <td>2020-07-25</td>\n",
              "      <td>hey yankees yankeespr mlb wouldnt made sense p...</td>\n",
              "    </tr>\n",
              "    <tr>\n",
              "      <th>2</th>\n",
              "      <td>6531</td>\n",
              "      <td>2020-07-25</td>\n",
              "      <td>wdunlap realdonaldtrump trump never claimed h...</td>\n",
              "    </tr>\n",
              "    <tr>\n",
              "      <th>3</th>\n",
              "      <td>7246</td>\n",
              "      <td>2020-07-25</td>\n",
              "      <td>brookbanktv one gift give appreciation simple ...</td>\n",
              "    </tr>\n",
              "    <tr>\n",
              "      <th>4</th>\n",
              "      <td>1504</td>\n",
              "      <td>2020-07-25</td>\n",
              "      <td>july media bulletin novel coronavirusupdates ...</td>\n",
              "    </tr>\n",
              "    <tr>\n",
              "      <th>...</th>\n",
              "      <td>...</td>\n",
              "      <td>...</td>\n",
              "      <td>...</td>\n",
              "    </tr>\n",
              "    <tr>\n",
              "      <th>10951</th>\n",
              "      <td>2582</td>\n",
              "      <td>2020-07-25</td>\n",
              "      <td>high tracking testing rates helped bahrain tak...</td>\n",
              "    </tr>\n",
              "    <tr>\n",
              "      <th>10952</th>\n",
              "      <td>4165</td>\n",
              "      <td>2020-07-25</td>\n",
              "      <td>dont care happens  state union obama orchestra...</td>\n",
              "    </tr>\n",
              "    <tr>\n",
              "      <th>10953</th>\n",
              "      <td>4500</td>\n",
              "      <td>2020-07-25</td>\n",
              "      <td>india’s tally zoomed past  lakhs saturday two ...</td>\n",
              "    </tr>\n",
              "    <tr>\n",
              "      <th>10954</th>\n",
              "      <td>2883</td>\n",
              "      <td>2020-07-25</td>\n",
              "      <td>india  testing us  testing prediction india co...</td>\n",
              "    </tr>\n",
              "    <tr>\n",
              "      <th>10955</th>\n",
              "      <td>4564</td>\n",
              "      <td>NaT</td>\n",
              "      <td>nan</td>\n",
              "    </tr>\n",
              "  </tbody>\n",
              "</table>\n",
              "<p>10956 rows × 3 columns</p>\n",
              "</div>"
            ],
            "text/plain": [
              "       user_name        date                                               text\n",
              "0           7683  2020-07-25  smelled scent hand sanitizers today someone pa...\n",
              "1           6554  2020-07-25  hey yankees yankeespr mlb wouldnt made sense p...\n",
              "2           6531  2020-07-25   wdunlap realdonaldtrump trump never claimed h...\n",
              "3           7246  2020-07-25  brookbanktv one gift give appreciation simple ...\n",
              "4           1504  2020-07-25   july media bulletin novel coronavirusupdates ...\n",
              "...          ...         ...                                                ...\n",
              "10951       2582  2020-07-25  high tracking testing rates helped bahrain tak...\n",
              "10952       4165  2020-07-25  dont care happens  state union obama orchestra...\n",
              "10953       4500  2020-07-25  india’s tally zoomed past  lakhs saturday two ...\n",
              "10954       2883  2020-07-25  india  testing us  testing prediction india co...\n",
              "10955       4564         NaT                                                nan\n",
              "\n",
              "[10956 rows x 3 columns]"
            ]
          },
          "metadata": {
            "tags": []
          }
        }
      ]
    },
    {
      "cell_type": "code",
      "metadata": {
        "trusted": true,
        "id": "_ksTT4NKuKrC"
      },
      "source": [
        ""
      ],
      "execution_count": 108,
      "outputs": []
    }
  ]
}